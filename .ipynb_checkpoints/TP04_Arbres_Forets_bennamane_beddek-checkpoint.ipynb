{
 "cells": [
  {
   "cell_type": "markdown",
   "metadata": {
    "id": "X21VgmtTnk9W"
   },
   "source": [
    "# TP04 : Arbres de décision et Forêts aléatoires\n",
    "\n",
    "Binômes : \n",
    "- Binôme 1  Beddek Lilya SIL2\n",
    "- Binôme 2  Bennamane Khadidja SIL2\n",
    "\n",
    "## I. Implémentation\n",
    "\n",
    "Il existe plusieurs implémentations des arbres de décision :\n",
    "- ID3 (Iterative Dichotomiser 3): dévelopé en 1986 par Ross Quinlan. Il peut être appliqué seulement sur les caractéristiques nominales. Il est utilisé pour le classement.\n",
    "- C4.5: une extension de ID3 par Ross Quinlan. Il peut être appliqué sur tous les types de caractéristiques. Il est utilisé pour le classement.\n",
    "- C5.0: une extension commerciale de C4.5, toujours par Ross Quinlan.\n",
    "- CART (Classification and Regression Trees): comme C4.5 mais utilise d'autres métriques. Aussi, l'algorithme supporte la régression.\n",
    "\n",
    "Dans ce TP, on va implémenter ID3 pour les caracéristiques nominales et CART (classement) pour les caracéristiques numériques seulement .\n",
    "\n",
    "### I.1. ID3\n",
    "\n",
    "Ici, on va implémenter l'algorithme vu dans le cours. On va utiliser le dataset \"jouer (nominales)\" "
   ]
  },
  {
   "cell_type": "code",
   "execution_count": null,
   "metadata": {
    "colab": {
     "base_uri": "https://localhost:8080/",
     "height": 204
    },
    "id": "JBNleBlfnk9Z",
    "outputId": "6c3fb6c7-2034-4cb8-bb92-2986a060de1b"
   },
   "outputs": [
    {
     "data": {
      "text/html": [
       "<div>\n",
       "<style scoped>\n",
       "    .dataframe tbody tr th:only-of-type {\n",
       "        vertical-align: middle;\n",
       "    }\n",
       "\n",
       "    .dataframe tbody tr th {\n",
       "        vertical-align: top;\n",
       "    }\n",
       "\n",
       "    .dataframe thead th {\n",
       "        text-align: right;\n",
       "    }\n",
       "</style>\n",
       "<table border=\"1\" class=\"dataframe\">\n",
       "  <thead>\n",
       "    <tr style=\"text-align: right;\">\n",
       "      <th></th>\n",
       "      <th>temps</th>\n",
       "      <th>temperature</th>\n",
       "      <th>humidite</th>\n",
       "      <th>vent</th>\n",
       "      <th>jouer</th>\n",
       "    </tr>\n",
       "  </thead>\n",
       "  <tbody>\n",
       "    <tr>\n",
       "      <th>0</th>\n",
       "      <td>ensoleile</td>\n",
       "      <td>chaude</td>\n",
       "      <td>haute</td>\n",
       "      <td>non</td>\n",
       "      <td>non</td>\n",
       "    </tr>\n",
       "    <tr>\n",
       "      <th>1</th>\n",
       "      <td>ensoleile</td>\n",
       "      <td>chaude</td>\n",
       "      <td>haute</td>\n",
       "      <td>oui</td>\n",
       "      <td>non</td>\n",
       "    </tr>\n",
       "    <tr>\n",
       "      <th>2</th>\n",
       "      <td>nuageux</td>\n",
       "      <td>chaude</td>\n",
       "      <td>haute</td>\n",
       "      <td>non</td>\n",
       "      <td>oui</td>\n",
       "    </tr>\n",
       "    <tr>\n",
       "      <th>3</th>\n",
       "      <td>pluvieux</td>\n",
       "      <td>douce</td>\n",
       "      <td>haute</td>\n",
       "      <td>non</td>\n",
       "      <td>oui</td>\n",
       "    </tr>\n",
       "    <tr>\n",
       "      <th>4</th>\n",
       "      <td>pluvieux</td>\n",
       "      <td>fraiche</td>\n",
       "      <td>normale</td>\n",
       "      <td>non</td>\n",
       "      <td>oui</td>\n",
       "    </tr>\n",
       "  </tbody>\n",
       "</table>\n",
       "</div>"
      ],
      "text/plain": [
       "       temps temperature humidite vent jouer\n",
       "0  ensoleile      chaude    haute  non   non\n",
       "1  ensoleile      chaude    haute  oui   non\n",
       "2    nuageux      chaude    haute  non   oui\n",
       "3   pluvieux       douce    haute  non   oui\n",
       "4   pluvieux     fraiche  normale  non   oui"
      ]
     },
     "execution_count": 37,
     "metadata": {
      "tags": []
     },
     "output_type": "execute_result"
    }
   ],
   "source": [
    "import numpy as np\n",
    "import pandas as pd \n",
    "import matplotlib.pyplot as plt \n",
    "\n",
    "%matplotlib inline\n",
    "\n",
    "jouer = pd.read_csv(\"datasets/jouer.csv\")\n",
    "\n",
    "X_jouer = jouer.iloc[:, :-1].values # Premières colonnes \n",
    "Y_jouer = jouer.iloc[:,-1].values # Dernière colonne \n",
    "\n",
    "# Afficher le dataset \"jouer\"\n",
    "jouer.head()"
   ]
  },
  {
   "cell_type": "markdown",
   "metadata": {
    "id": "lAybPEOsnk9d"
   },
   "source": [
    "#### I.1.1. Probabilité \n",
    "\n",
    "Etant donné une liste des valeurs $S$, la probabilité d'occurence d'une valeur $v$  est le nombre d'occurence de $v$ dans $S$ divisé par le nombre total des éléments de $S$. \n",
    "\n",
    "$$p(v/S) = \\frac{|\\{x / x \\in S \\text{ et } x = v\\}|}{|S|}$$\n",
    "\n",
    "Exemple, prenons la colonne \"jouer\". \n",
    "Le nombre de \"oui\" est 9 et le nombre total est 14. \n",
    "$$p(jouer=oui) = \\frac{9}{14} = 0.6428571428571429$$"
   ]
  },
  {
   "cell_type": "code",
   "execution_count": null,
   "metadata": {
    "colab": {
     "base_uri": "https://localhost:8080/"
    },
    "id": "-6Zh50jPnk9d",
    "outputId": "b9da4c65-f520-410e-8205-16c7626fdaf4"
   },
   "outputs": [
    {
     "data": {
      "text/plain": [
       "(0.6428571428571429,\n",
       " 0.35714285714285715,\n",
       " 0.2857142857142857,\n",
       " 0.35714285714285715)"
      ]
     },
     "execution_count": 38,
     "metadata": {
      "tags": []
     },
     "output_type": "execute_result"
    }
   ],
   "source": [
    "# TODO calculer la probabilité d'occurence d'une valeur val dans un ensemble S\n",
    "# PS: si la division retourne toujours 0, essayer d'appliquer float(x) sur le numérateur ou le dénominateur\n",
    "def P(S, v): \n",
    "    return np.count_nonzero(S == v)/np.size(S)\n",
    "\n",
    "#=====================================================================\n",
    "# TEST UNITAIRE\n",
    "#=====================================================================\n",
    "# Resultat : \n",
    "# (0.6428571428571429,\n",
    "#  0.35714285714285715,\n",
    "#  0.2857142857142857,\n",
    "#  0.35714285714285715)\n",
    "#---------------------------------------------------------------------\n",
    "\n",
    "P(Y_jouer, \"oui\"), P(X_jouer[:,0], \"ensoleile\"), P(X_jouer[:, 0], \"nuageux\"), P(X_jouer[:,0], \"pluvieux\")"
   ]
  },
  {
   "cell_type": "markdown",
   "metadata": {
    "id": "dQbZGuYlnk9f"
   },
   "source": [
    "#### I.1.2. Incertitude d'un ensemble\n",
    "\n",
    "L'entropie de Shannon correspond à la quantité d'information contenue dans une source d'information ; plus la source émet d'informations différentes, plus l'entropie (ou l'incertitude sur ce que la source émet) est grande.\n",
    "Donc, un ensemble avec une entropie de 0 contient les mêmes valeurs.\n",
    "Etant donné : \n",
    "- $S$ une liste des valeurs \n",
    "- $V$ un ensemble de valeurs uniques de $S$ (vocabulaire) \n",
    "\n",
    "L'entropie de $S$ est calculée comme suit : \n",
    "$$H(S) = - \\sum\\limits_{v \\in V} p(v/S) \\log_2 p(v/S)$$\n",
    "\n",
    "Par exemple, la colonne \"jouer\" contient deux valeurs \"oui\" et \"non\". \n",
    "Son entopie est :\n",
    "$$H(jouer) = - \\frac{9}{14} * \\log_2(\\frac{9}{14}) - \\frac{5}{14} * \\log_2(\\frac{5}{14}) = 0.9402859586706309$$ \n"
   ]
  },
  {
   "cell_type": "code",
   "execution_count": null,
   "metadata": {
    "colab": {
     "base_uri": "https://localhost:8080/"
    },
    "id": "txgjUAv6nk9g",
    "outputId": "1fa0293a-b20b-4d10-e768-eeb8f029377c"
   },
   "outputs": [
    {
     "data": {
      "text/plain": [
       "(0.9402859586706309, 1.5774062828523454)"
      ]
     },
     "execution_count": 39,
     "metadata": {
      "tags": []
     },
     "output_type": "execute_result"
    }
   ],
   "source": [
    "# TODO compléter la fonction d'entropie\n",
    "# np.log2 : calcule log2 d'une valeur, vecteur ou matrice\n",
    "def H(S):  \n",
    "    V = np.unique(S)\n",
    "    entropie = 0\n",
    "    entropie= -sum(P(S, v)*np.log2(P(S, v)) for v in V)\n",
    "    return entropie \n",
    "\n",
    "#=====================================================================\n",
    "# TEST UNITAIRE\n",
    "#=====================================================================\n",
    "# Resultat : (0.9402859586706311, 1.5774062828523454)\n",
    "#---------------------------------------------------------------------\n",
    "\n",
    "H(Y_jouer), H(X_jouer[:,0])"
   ]
  },
  {
   "cell_type": "markdown",
   "metadata": {
    "id": "UMhTW0zCnk9i"
   },
   "source": [
    "#### I.1.3. Division d'un ensemble\n",
    "\n",
    "**Rien à programmer ici**\n",
    "\n",
    "Ici, on essaye de diviser la liste des prédictions (classes) selon les valeurs d'un attribut (caractéristique, colonne) à des sous listes. \n",
    "\n",
    "Etant donné : \n",
    "- **Y** : la liste à diviser\n",
    "- **A** : la liste des valeurs d'un attribut (caractéristique, colonne). C'est un vecteur aligné avec Y ; c-à-d, chaque élément de A a un élément de Y respectif.\n",
    "- **v** : la valeur sur laquelle on divie.\n",
    "\n",
    "$$S_{A,v} = \\{y^{(i)} \\in Y / a^{(i)} \\in A \\wedge a^{(i)} = v\\}\\}$$\n",
    "\n",
    "Par exemple, si \n",
    "- $Y$ est la liste des prédictions de \"jouer\"\n",
    "- $A$ est la liste des valeurs de la caractéristique \"temps\"\n",
    "- $v$ est la valeur \"ensoleile\"\n",
    "La sous ensemble de \"jouer\" où (temps = \"ensoleile\") contient 3 non et 2 oui "
   ]
  },
  {
   "cell_type": "code",
   "execution_count": null,
   "metadata": {
    "colab": {
     "base_uri": "https://localhost:8080/"
    },
    "id": "RGbKhMRnnk9j",
    "outputId": "90226d42-bb2f-4e10-ec18-51f32eaaaa99"
   },
   "outputs": [
    {
     "data": {
      "text/plain": [
       "array(['non', 'non', 'non', 'oui', 'oui'], dtype=object)"
      ]
     },
     "execution_count": 40,
     "metadata": {
      "tags": []
     },
     "output_type": "execute_result"
    }
   ],
   "source": [
    "def diviser_ID3(Y, A, v):\n",
    "    msk = A == v\n",
    "    return Y[msk]\n",
    "\n",
    "#=====================================================================\n",
    "# TEST UNITAIRE\n",
    "#=====================================================================\n",
    "# Resultat : array(['non', 'non', 'non', 'oui', 'oui'], dtype=object)\n",
    "#---------------------------------------------------------------------\n",
    "\n",
    "diviser_ID3(Y_jouer, X_jouer[:,0], \"ensoleile\")"
   ]
  },
  {
   "cell_type": "markdown",
   "metadata": {
    "id": "BvNhrZUxnk9k"
   },
   "source": [
    "#### I.1.4. Gain d'entropie\n",
    "\n",
    "Le gain d'entropie (information gain) est la différence entre l'entropie avant et après la division d'une liste $Y$ selon l'attribut $A$. \n",
    "En d'autres termes, combien d'incertitude dans $Y$ a été réduite après sa division en utilisant l'attribut $A$.\n",
    "\n",
    "Etant donné : \n",
    "- **Y** : une liste à diviser\n",
    "- **A** : une liste des valeurs d'un attribut (caractéristique, colonne) \n",
    "- **V** : l'ensemble des valeurs différentes de l'attribut A (vocabulaire)\n",
    "- **p(v/A)** : la probabité d'occurence de la valeur $v$ dans $A$\n",
    "- $Y_{A, v}$ : sous-ensemble de $Y$ où les valeurs de $V$ égalent à $v$  en utilisant la fonction précédente (diviser_ID3)\n",
    "\n",
    "Le gain d'entrepie se calcule comme suit : \n",
    "\n",
    "$$IG(Y, A) = H(Y) - \\sum_{v \\in V} p(v/A) H(Y_{A, v})$$"
   ]
  },
  {
   "cell_type": "code",
   "execution_count": null,
   "metadata": {
    "colab": {
     "base_uri": "https://localhost:8080/"
    },
    "id": "gjQKUGVPnk9l",
    "outputId": "5776eee3-faa5-4287-cb71-d4da76871d4c"
   },
   "outputs": [
    {
     "data": {
      "text/plain": [
       "(0.2467498197744391, 0.9402859586706309)"
      ]
     },
     "execution_count": 41,
     "metadata": {
      "tags": []
     },
     "output_type": "execute_result"
    }
   ],
   "source": [
    "# TODO Compléter la fonction du gain d'entropie\n",
    "# elle doit rendre le gain d'entropie et l'entropie \n",
    "# On rend l'entropie pour ne pas recalculer ultérierement \n",
    "def IG(Y, A):\n",
    "    V = np.unique(A)\n",
    "    entropie = H(Y)\n",
    "    ig_global = entropie - sum(P(A,v)* H(diviser_ID3(Y, A, v)) for v in V)\n",
    "    return ig_global, entropie\n",
    "\n",
    "#=====================================================================\n",
    "# TEST UNITAIRE\n",
    "#=====================================================================\n",
    "# Resultat : (0.24674981977443933, 0.9402859586706311)\n",
    "#---------------------------------------------------------------------\n",
    "\n",
    "IG(Y_jouer, X_jouer[:, 0])"
   ]
  },
  {
   "cell_type": "markdown",
   "metadata": {
    "id": "nErPQLVNnk9n"
   },
   "source": [
    "#### I.1.5. Choix de l'attribut de division ID3\n",
    "\n",
    "Ici, vous devez chercher l'attribut qui maximise IG.\n",
    "\n",
    "$$jj = \\arg\\max_j IG(Y, X_j)$$\n",
    "\n",
    "La fonction doit rendre jj, le IG de division en utilisant jj et l'entropy"
   ]
  },
  {
   "cell_type": "code",
   "execution_count": null,
   "metadata": {
    "colab": {
     "base_uri": "https://localhost:8080/"
    },
    "id": "yHzKss_Dnk9n",
    "outputId": "ba16e860-93fc-4b90-a823-e9656ea86233"
   },
   "outputs": [
    {
     "data": {
      "text/plain": [
       "(0, 0.2467498197744391, 0.9402859586706309)"
      ]
     },
     "execution_count": 42,
     "metadata": {
      "tags": []
     },
     "output_type": "execute_result"
    }
   ],
   "source": [
    "# TODO compléter la fonction du choix d'attribut de dévision\n",
    "# le plus adéquat pour diviser Y \n",
    "# elle doit, aussi, rendre le IG et le H de ce caractéristique \n",
    "def choisir_devision_ID3(X, Y): \n",
    "    jj = -1 # numéro d'attribut qui maximise IG\n",
    "    ig_jj = -1.0 # IG de cet attribut (le max)\n",
    "    h_jj = -1.0  # Entropie \n",
    "\n",
    "    for col in range(X.shape[1]):\n",
    "      if IG(Y,X[:,col]) > IG(Y,X[:,jj]):\n",
    "        jj=col\n",
    "    ig_jj, h_jj= IG(Y,X[:,jj])\n",
    "    return jj,ig_jj,h_jj\n",
    "\n",
    "#=====================================================================\n",
    "# TEST UNITAIRE\n",
    "#=====================================================================\n",
    "# Resultat : (0, 0.24674981977443933, 0.9402859586706311)\n",
    "#---------------------------------------------------------------------\n",
    "\n",
    "choisir_devision_ID3(X_jouer, Y_jouer)"
   ]
  },
  {
   "cell_type": "markdown",
   "metadata": {
    "id": "N2TiVV_ynk9o"
   },
   "source": [
    "#### I.1.6. Arrêt de division\n",
    "\n",
    "Etant donné les données suivantes :\n",
    "- **Y** : l'ensemble des prédiction au niveau d'un noeud\n",
    "- **h** : le critère d'homoginiété. h = 0 ==> l'ensemble Y est homogène (mêmes valeurs)\n",
    "- **nbr_min** : le nombre minimale des observations dans un noeud. |Y| <= nbr_min ==> le noeud doit être une feuille\n",
    "\n",
    "La fonction d'arrêt doit retourner : \n",
    "- Le nom de la classe : si l'ensemble est homogène ou il contient un nombre minimal des éléments\n",
    "- None : sinon"
   ]
  },
  {
   "cell_type": "code",
   "execution_count": null,
   "metadata": {
    "colab": {
     "base_uri": "https://localhost:8080/"
    },
    "id": "fP3Qq-M0nk9p",
    "outputId": "5b0efdd3-cabd-4445-a4f1-fe74433a628d"
   },
   "outputs": [
    {
     "data": {
      "text/plain": [
       "('oui', 'non', None)"
      ]
     },
     "execution_count": 43,
     "metadata": {
      "tags": []
     },
     "output_type": "execute_result"
    }
   ],
   "source": [
    "# TODO : réaliser la fonction d'arrêt ID3\n",
    "# HINT : utiliser numpy.unique et numpy.argmax\n",
    "def arreter_ID3(Y, h, nbr_min):\n",
    "    values, counts = np.unique(Y, return_counts=True)\n",
    "    return values[np.argmax(counts)] if (Y.size<nbr_min or h==0) else None\n",
    "\n",
    "#=====================================================================\n",
    "# TEST UNITAIRE\n",
    "#=====================================================================\n",
    "# Resultat : ('oui', 'non', None)\n",
    "#---------------------------------------------------------------------\n",
    "\n",
    "Y_t1 = np.array([\"oui\", \"oui\", \"oui\"])\n",
    "Y_t2 = np.array([\"oui\", \"non\", \"non\"])\n",
    "arreter_ID3(Y_t1, H(Y_t1), 2), arreter_ID3(Y_t2, H(Y_t2), 4), arreter_ID3(Y_t2, H(Y_t2), 2)"
   ]
  },
  {
   "cell_type": "markdown",
   "metadata": {
    "id": "rnjNZEsLnk9q"
   },
   "source": [
    "#### I.1.7. Création de l'arbre\n",
    "\n",
    "**Rien à programmer ici**\n"
   ]
  },
  {
   "cell_type": "code",
   "execution_count": null,
   "metadata": {
    "colab": {
     "base_uri": "https://localhost:8080/",
     "height": 273
    },
    "id": "koA-Jwc_nk9r",
    "outputId": "00d3a996-54ae-4f15-9ed6-8ecd8eef260a"
   },
   "outputs": [
    {
     "name": "stdout",
     "output_type": "stream",
     "text": [
      "Le Code\n",
      "Si X[0] est \"ensoleile\" Alors\n",
      "    Si X[2] est \"haute\" Alors\n",
      "        Y est \"non\"\n",
      "    Si X[2] est \"normale\" Alors\n",
      "        Y est \"oui\"\n",
      "Si X[0] est \"nuageux\" Alors\n",
      "    Y est \"oui\"\n",
      "Si X[0] est \"pluvieux\" Alors\n",
      "    Si X[-1] est \"non\" Alors\n",
      "        Y est \"oui\"\n",
      "    Si X[-1] est \"oui\" Alors\n",
      "        Y est \"non\"\n",
      "\n"
     ]
    },
    {
     "data": {
      "application/vnd.google.colaboratory.intrinsic+json": {
       "type": "string"
      },
      "text/plain": [
       "'oui'"
      ]
     },
     "execution_count": 44,
     "metadata": {
      "tags": []
     },
     "output_type": "execute_result"
    }
   ],
   "source": [
    "# Une classe pour contenir les informations du noeud et \n",
    "# la liste de ces fils\n",
    "class Noeud(object): \n",
    "    \n",
    "    nbr = 0\n",
    "    \n",
    "    def __init__(self, num, ig, h, profondeur): \n",
    "        self.num = num # le numéro du caractéristique de dévision dans X\n",
    "        self.ig = ig # le IG de division\n",
    "        self.h = h # l'entropie H\n",
    "        self.pr = profondeur # la profondeur du noeud\n",
    "        self.fils = {} # les fils ; un dictionnaire valeur : noeud\n",
    "        self.cls = \"\" # la classe si ce noeud est final (s'il n'y a pas de fils)\n",
    "        self.indent = \"    \" # indentation lorsqu'on génère le code\n",
    "    \n",
    "    # Cette fonction est pour transformer le noeud à une string\n",
    "    #Ici, nous avons redéfini cette fonction afin qu'elle écrive l'arbre \n",
    "    #sous form d'un algorithme ; c'est un parser \n",
    "    def __str__(self):\n",
    "        \n",
    "        indent = self.indent * self.pr # indentation : esthetique\n",
    "        \n",
    "        # s'il n'y a pas de fils, le noeud est terminal ; on imprime la classe\n",
    "        if (len(self.fils)==0):\n",
    "            return indent + 'Y est \"' + self.cls + '\"\\n'\n",
    "        \n",
    "        # s'il y a des fils, on boucle sur les fils et on imprime des SI ... ALORS\n",
    "        res = \"\"\n",
    "        for valeur in self.fils:\n",
    "            res += indent + 'Si X[' + str(self.num) + '] est \"' + str(valeur) + '\" Alors\\n' + str(self.fils[valeur])\n",
    "        return res\n",
    "    \n",
    "    # predire un échantillon\n",
    "    def predire(self, x): \n",
    "        \n",
    "        # Si le noeud est final, il rend sa classe \n",
    "        if (len(self.fils)==0):\n",
    "            return self.cls\n",
    "        \n",
    "        # Si la valeur de la colonne respective à ce noeud n'appartient pas à l'ensemble des\n",
    "        # valeurs attendues, on rend np.nan\n",
    "        if x[self.num] not in self.fils: \n",
    "            return np.nan\n",
    "        \n",
    "        # Sinon, on rend \n",
    "        return self.fils[x[self.num]].predire(x)\n",
    "    \n",
    "    # générer un code pour graphviz\n",
    "    def graphviz(self): \n",
    "        \n",
    "        nid = 'N' + str(Noeud.nbr)\n",
    "        Noeud.nbr += 1\n",
    "        \n",
    "        # Si le noeud est final, \n",
    "        if (len(self.fils)==0):\n",
    "            return nid, nid + '[label=\"' + self.cls + '\" shape=ellipse];\\n'\n",
    "        \n",
    "        # Sinon, \n",
    "        # s'il y a des fils, on boucle sur les fils et on imprime des SI ... ALORS\n",
    "        res = nid + '[label=\"X[' + str(self.num) + ']\\\\n'\n",
    "        res += 'H = ' + str(self.h) + '\\\\n'\n",
    "        res += 'IG = ' + str(self.ig) + '\"];\\n'\n",
    "        for valeur in self.fils:\n",
    "            vid, code = self.fils[valeur].graphviz()\n",
    "            res += code\n",
    "            res += nid + ' -> ' + vid + ' [label=\"' + valeur + '\"];\\n'\n",
    "        return nid, res\n",
    "    \n",
    "\n",
    "# créer l'arbre de décision à partir d'un ensemble X et Y\n",
    "def entrainer_ID3(X, Y, nbr_min=0, profondeur=0): \n",
    "    \n",
    "    # Chercher la meilleure caractéristique de X pour diviser Y\n",
    "    jj, ig_jj, h_jj = choisir_devision_ID3(X, Y)\n",
    "    # Créer un noeud\n",
    "    noeud = Noeud(jj, ig_jj, h_jj, profondeur)\n",
    "    # si arrêter rend une classe, donc c'est une feuille \n",
    "    cls = arreter_ID3(Y, h_jj, nbr_min)\n",
    "    if cls:\n",
    "        noeud.cls = cls # la classe du noeud\n",
    "        return noeud # retourner le noeud \n",
    "    \n",
    "    # Sinon, si le noeud n'est pas une feuille, on crée ces fils\n",
    "    profondeur += 1 # la profondeur de ces fils\n",
    "    # les fils sont créés à partir des valeurs uniques du meilleur caractéristique\n",
    "    for v in np.unique(X[:, jj]):\n",
    "        # Ces trois lignes sont pour récupérer les sous-ensembles X_val, Y_val\n",
    "        # Corresondants à une valeur du meilleur caractéristique\n",
    "        msk = X[:, jj] == v \n",
    "        X_v = X[msk]\n",
    "        Y_v = Y[msk]\n",
    "        # On refait la même opération sur l'ensemble (Y_val) d'une manière récursive\n",
    "        fils = entrainer_ID3(X_v, Y_v, nbr_min=nbr_min, profondeur=profondeur)\n",
    "        # On affecte le noeud créé indexé par la valeur du meilleur caractéristique \n",
    "        # à l'ensemble des fils du noeud courant\n",
    "        noeud.fils[v] = fils\n",
    "    \n",
    "    return noeud\n",
    "\n",
    "arbre_jouer = entrainer_ID3(X_jouer, Y_jouer)\n",
    "\n",
    "print(\"Le Code\")\n",
    "print(arbre_jouer)\n",
    "\n",
    "# Tester sur un échantillon\n",
    "arbre_jouer.predire([\"pluvieux\", \"temperature_makanche\", \"humidite_makanche\", \"non\"])"
   ]
  },
  {
   "cell_type": "markdown",
   "metadata": {
    "id": "QbQ7IRPvnk9w"
   },
   "source": [
    "#### I.1.8. Regrouper le tous\n",
    "\n",
    "**Rien à programmer ici**"
   ]
  },
  {
   "cell_type": "code",
   "execution_count": null,
   "metadata": {
    "colab": {
     "base_uri": "https://localhost:8080/"
    },
    "id": "ZjK2KgdBnk9y",
    "outputId": "dda34931-a32f-4c00-feda-7c699cf4acd2"
   },
   "outputs": [
    {
     "name": "stdout",
     "output_type": "stream",
     "text": [
      "Si temps est \"ensoleile\" Alors\n",
      "    Si humidite est \"haute\" Alors\n",
      "        jouer est \"non\"\n",
      "    Si humidite est \"normale\" Alors\n",
      "        jouer est \"oui\"\n",
      "Si temps est \"nuageux\" Alors\n",
      "    jouer est \"oui\"\n",
      "Si temps est \"pluvieux\" Alors\n",
      "    Si X[-1] est \"non\" Alors\n",
      "        jouer est \"oui\"\n",
      "    Si X[-1] est \"oui\" Alors\n",
      "        jouer est \"non\"\n",
      "\n"
     ]
    }
   ],
   "source": [
    "class ID3(object): \n",
    "    \n",
    "    def entrainer(self, X, Y, X_noms=[], Y_nom=\"\", nbr_min=0):\n",
    "        self.arbre = entrainer_ID3(X, Y, nbr_min=nbr_min)\n",
    "        code = str(self.arbre)\n",
    "        if len(Y_nom) > 0: \n",
    "            code = code.replace(\"Y\", Y_nom)\n",
    "        for i in range(len(X_noms)): \n",
    "            code = code.replace(\"X[\" + str(i) + \"]\", X_noms[i])\n",
    "        self.code = code\n",
    "        self.X_noms = X_noms\n",
    "    \n",
    "    def predire(self, X): \n",
    "        predictions = []\n",
    "        for i in range(len(X)): \n",
    "            predictions.append(self.arbre.predire(X[i, :]))\n",
    "        return predictions\n",
    "    \n",
    "    def graphviz(self): \n",
    "        nid, code = self.arbre.graphviz()\n",
    "        res = \"digraph Tree {\\n\"\n",
    "        res += \"node [shape=box] ;\"\n",
    "        for i in range(len(self.X_noms)): \n",
    "            code = code.replace(\"X[\" + str(i) + \"]\", self.X_noms[i])\n",
    "        res += code\n",
    "        res += \"}\"\n",
    "        return res\n",
    "\n",
    "id3_classifieur = ID3()\n",
    "id3_classifieur.entrainer(X_jouer, Y_jouer, X_noms=[\"temps\", \"temperature\", \"humidite\", \"vent\"], Y_nom=\"jouer\")\n",
    "print(id3_classifieur.code)"
   ]
  },
  {
   "cell_type": "code",
   "execution_count": null,
   "metadata": {
    "colab": {
     "base_uri": "https://localhost:8080/",
     "height": 357
    },
    "id": "7aJPYQI3nk9z",
    "outputId": "20c7b35c-0818-4bcb-f8f8-8caa25f21fb2"
   },
   "outputs": [
    {
     "data": {
      "image/svg+xml": [
       "<svg height=\"252pt\" viewBox=\"0.00 0.00 457.00 252.00\" width=\"457pt\" xmlns=\"http://www.w3.org/2000/svg\" xmlns:xlink=\"http://www.w3.org/1999/xlink\">\n",
       "<g class=\"graph\" id=\"graph0\" transform=\"scale(1 1) rotate(0) translate(4 248)\">\n",
       "<title>Tree</title>\n",
       "<polygon fill=\"#ffffff\" points=\"-4,4 -4,-248 453,-248 453,4 -4,4\" stroke=\"transparent\"/>\n",
       "<!-- N0 -->\n",
       "<g class=\"node\" id=\"node1\">\n",
       "<title>N0</title>\n",
       "<polygon fill=\"none\" points=\"314,-244 135,-244 135,-191 314,-191 314,-244\" stroke=\"#000000\"/>\n",
       "<text fill=\"#000000\" font-family=\"Times,serif\" font-size=\"14.00\" text-anchor=\"middle\" x=\"224.5\" y=\"-228.8\">temps</text>\n",
       "<text fill=\"#000000\" font-family=\"Times,serif\" font-size=\"14.00\" text-anchor=\"middle\" x=\"224.5\" y=\"-213.8\">H = 0.9402859586706309</text>\n",
       "<text fill=\"#000000\" font-family=\"Times,serif\" font-size=\"14.00\" text-anchor=\"middle\" x=\"224.5\" y=\"-198.8\">IG = 0.2467498197744391</text>\n",
       "</g>\n",
       "<!-- N1 -->\n",
       "<g class=\"node\" id=\"node2\">\n",
       "<title>N1</title>\n",
       "<polygon fill=\"none\" points=\"179,-140 0,-140 0,-87 179,-87 179,-140\" stroke=\"#000000\"/>\n",
       "<text fill=\"#000000\" font-family=\"Times,serif\" font-size=\"14.00\" text-anchor=\"middle\" x=\"89.5\" y=\"-124.8\">humidite</text>\n",
       "<text fill=\"#000000\" font-family=\"Times,serif\" font-size=\"14.00\" text-anchor=\"middle\" x=\"89.5\" y=\"-109.8\">H = 0.9709505944546686</text>\n",
       "<text fill=\"#000000\" font-family=\"Times,serif\" font-size=\"14.00\" text-anchor=\"middle\" x=\"89.5\" y=\"-94.8\">IG = 0.9709505944546686</text>\n",
       "</g>\n",
       "<!-- N0&#45;&gt;N1 -->\n",
       "<g class=\"edge\" id=\"edge3\">\n",
       "<title>N0-&gt;N1</title>\n",
       "<path d=\"M190.0845,-190.9873C172.5278,-177.4621 151.0038,-160.8807 132.3782,-146.5321\" fill=\"none\" stroke=\"#000000\"/>\n",
       "<polygon fill=\"#000000\" points=\"134.3799,-143.656 124.3221,-140.3259 130.108,-149.2014 134.3799,-143.656\" stroke=\"#000000\"/>\n",
       "<text fill=\"#000000\" font-family=\"Times,serif\" font-size=\"14.00\" text-anchor=\"middle\" x=\"190.5\" y=\"-161.8\">ensoleile</text>\n",
       "</g>\n",
       "<!-- N4 -->\n",
       "<g class=\"node\" id=\"node5\">\n",
       "<title>N4</title>\n",
       "<ellipse cx=\"224.5\" cy=\"-113.5\" fill=\"none\" rx=\"27\" ry=\"18\" stroke=\"#000000\"/>\n",
       "<text fill=\"#000000\" font-family=\"Times,serif\" font-size=\"14.00\" text-anchor=\"middle\" x=\"224.5\" y=\"-109.8\">oui</text>\n",
       "</g>\n",
       "<!-- N0&#45;&gt;N4 -->\n",
       "<g class=\"edge\" id=\"edge4\">\n",
       "<title>N0-&gt;N4</title>\n",
       "<path d=\"M224.5,-190.9873C224.5,-176.0719 224.5,-157.4395 224.5,-142.1839\" fill=\"none\" stroke=\"#000000\"/>\n",
       "<polygon fill=\"#000000\" points=\"228.0001,-141.7735 224.5,-131.7735 221.0001,-141.7736 228.0001,-141.7735\" stroke=\"#000000\"/>\n",
       "<text fill=\"#000000\" font-family=\"Times,serif\" font-size=\"14.00\" text-anchor=\"middle\" x=\"249.5\" y=\"-161.8\">nuageux</text>\n",
       "</g>\n",
       "<!-- N5 -->\n",
       "<g class=\"node\" id=\"node6\">\n",
       "<title>N5</title>\n",
       "<polygon fill=\"none\" points=\"449,-140 270,-140 270,-87 449,-87 449,-140\" stroke=\"#000000\"/>\n",
       "<text fill=\"#000000\" font-family=\"Times,serif\" font-size=\"14.00\" text-anchor=\"middle\" x=\"359.5\" y=\"-124.8\">X[-1]</text>\n",
       "<text fill=\"#000000\" font-family=\"Times,serif\" font-size=\"14.00\" text-anchor=\"middle\" x=\"359.5\" y=\"-109.8\">H = 0.9709505944546686</text>\n",
       "<text fill=\"#000000\" font-family=\"Times,serif\" font-size=\"14.00\" text-anchor=\"middle\" x=\"359.5\" y=\"-94.8\">IG = 0.9709505944546686</text>\n",
       "</g>\n",
       "<!-- N0&#45;&gt;N5 -->\n",
       "<g class=\"edge\" id=\"edge7\">\n",
       "<title>N0-&gt;N5</title>\n",
       "<path d=\"M258.9155,-190.9873C276.4722,-177.4621 297.9962,-160.8807 316.6218,-146.5321\" fill=\"none\" stroke=\"#000000\"/>\n",
       "<polygon fill=\"#000000\" points=\"318.892,-149.2014 324.6779,-140.3259 314.6201,-143.656 318.892,-149.2014\" stroke=\"#000000\"/>\n",
       "<text fill=\"#000000\" font-family=\"Times,serif\" font-size=\"14.00\" text-anchor=\"middle\" x=\"326.5\" y=\"-161.8\">pluvieux</text>\n",
       "</g>\n",
       "<!-- N2 -->\n",
       "<g class=\"node\" id=\"node3\">\n",
       "<title>N2</title>\n",
       "<ellipse cx=\"53.5\" cy=\"-18\" fill=\"none\" rx=\"27\" ry=\"18\" stroke=\"#000000\"/>\n",
       "<text fill=\"#000000\" font-family=\"Times,serif\" font-size=\"14.00\" text-anchor=\"middle\" x=\"53.5\" y=\"-14.3\">non</text>\n",
       "</g>\n",
       "<!-- N1&#45;&gt;N2 -->\n",
       "<g class=\"edge\" id=\"edge1\">\n",
       "<title>N1-&gt;N2</title>\n",
       "<path d=\"M79.2159,-86.6876C76.9922,-80.86 74.6603,-74.726 72.5,-69 69.5451,-61.1679 66.3599,-52.6488 63.4577,-44.8561\" fill=\"none\" stroke=\"#000000\"/>\n",
       "<polygon fill=\"#000000\" points=\"66.7373,-43.6335 59.9715,-35.4803 60.1762,-46.0732 66.7373,-43.6335\" stroke=\"#000000\"/>\n",
       "<text fill=\"#000000\" font-family=\"Times,serif\" font-size=\"14.00\" text-anchor=\"middle\" x=\"88\" y=\"-57.8\">haute</text>\n",
       "</g>\n",
       "<!-- N3 -->\n",
       "<g class=\"node\" id=\"node4\">\n",
       "<title>N3</title>\n",
       "<ellipse cx=\"125.5\" cy=\"-18\" fill=\"none\" rx=\"27\" ry=\"18\" stroke=\"#000000\"/>\n",
       "<text fill=\"#000000\" font-family=\"Times,serif\" font-size=\"14.00\" text-anchor=\"middle\" x=\"125.5\" y=\"-14.3\">oui</text>\n",
       "</g>\n",
       "<!-- N1&#45;&gt;N3 -->\n",
       "<g class=\"edge\" id=\"edge2\">\n",
       "<title>N1-&gt;N3</title>\n",
       "<path d=\"M99.528,-86.8979C104.4354,-73.8798 110.3334,-58.2336 115.2678,-45.1438\" fill=\"none\" stroke=\"#000000\"/>\n",
       "<polygon fill=\"#000000\" points=\"118.5686,-46.3099 118.8209,-35.7181 112.0185,-43.8407 118.5686,-46.3099\" stroke=\"#000000\"/>\n",
       "<text fill=\"#000000\" font-family=\"Times,serif\" font-size=\"14.00\" text-anchor=\"middle\" x=\"136\" y=\"-57.8\">normale</text>\n",
       "</g>\n",
       "<!-- N6 -->\n",
       "<g class=\"node\" id=\"node7\">\n",
       "<title>N6</title>\n",
       "<ellipse cx=\"323.5\" cy=\"-18\" fill=\"none\" rx=\"27\" ry=\"18\" stroke=\"#000000\"/>\n",
       "<text fill=\"#000000\" font-family=\"Times,serif\" font-size=\"14.00\" text-anchor=\"middle\" x=\"323.5\" y=\"-14.3\">oui</text>\n",
       "</g>\n",
       "<!-- N5&#45;&gt;N6 -->\n",
       "<g class=\"edge\" id=\"edge5\">\n",
       "<title>N5-&gt;N6</title>\n",
       "<path d=\"M349.472,-86.8979C344.5646,-73.8798 338.6666,-58.2336 333.7322,-45.1438\" fill=\"none\" stroke=\"#000000\"/>\n",
       "<polygon fill=\"#000000\" points=\"336.9815,-43.8407 330.1791,-35.7181 330.4314,-46.3099 336.9815,-43.8407\" stroke=\"#000000\"/>\n",
       "<text fill=\"#000000\" font-family=\"Times,serif\" font-size=\"14.00\" text-anchor=\"middle\" x=\"355\" y=\"-57.8\">non</text>\n",
       "</g>\n",
       "<!-- N7 -->\n",
       "<g class=\"node\" id=\"node8\">\n",
       "<title>N7</title>\n",
       "<ellipse cx=\"395.5\" cy=\"-18\" fill=\"none\" rx=\"27\" ry=\"18\" stroke=\"#000000\"/>\n",
       "<text fill=\"#000000\" font-family=\"Times,serif\" font-size=\"14.00\" text-anchor=\"middle\" x=\"395.5\" y=\"-14.3\">non</text>\n",
       "</g>\n",
       "<!-- N5&#45;&gt;N7 -->\n",
       "<g class=\"edge\" id=\"edge6\">\n",
       "<title>N5-&gt;N7</title>\n",
       "<path d=\"M369.528,-86.8979C374.4354,-73.8798 380.3334,-58.2336 385.2678,-45.1438\" fill=\"none\" stroke=\"#000000\"/>\n",
       "<polygon fill=\"#000000\" points=\"388.5686,-46.3099 388.8209,-35.7181 382.0185,-43.8407 388.5686,-46.3099\" stroke=\"#000000\"/>\n",
       "<text fill=\"#000000\" font-family=\"Times,serif\" font-size=\"14.00\" text-anchor=\"middle\" x=\"391\" y=\"-57.8\">oui</text>\n",
       "</g>\n",
       "</g>\n",
       "</svg>"
      ],
      "text/plain": [
       "<IPython.core.display.SVG object>"
      ]
     },
     "metadata": {
      "tags": []
     },
     "output_type": "display_data"
    }
   ],
   "source": [
    "# C'est juste une visualisation du graphe\n",
    "# Si ça ne marche pas, ce n'ai pas grave\n",
    "try:\n",
    "    from IPython.display import SVG\n",
    "    from graphviz import Source\n",
    "    from IPython.display import display\n",
    "    \n",
    "    graph = Source(id3_classifieur.graphviz())\n",
    "    display(SVG(graph.pipe(format='svg')))\n",
    "\n",
    "except ImportError:\n",
    "    print(\"il faut installer graphviz\")"
   ]
  },
  {
   "cell_type": "markdown",
   "metadata": {
    "id": "5MVbM9Fhnk90"
   },
   "source": [
    "### I.2. CART\n",
    "\n",
    "Ici, on va implémenter l'algorithme CART pour la classification avec des caractéristiques numériques. On va utiliser le dataset \"jouer (numériques)\". \n"
   ]
  },
  {
   "cell_type": "code",
   "execution_count": null,
   "metadata": {
    "colab": {
     "base_uri": "https://localhost:8080/",
     "height": 204
    },
    "id": "ibYMD-89nk90",
    "outputId": "b6692233-4bde-41cf-afd3-cce9e0486807"
   },
   "outputs": [
    {
     "data": {
      "text/html": [
       "<div>\n",
       "<style scoped>\n",
       "    .dataframe tbody tr th:only-of-type {\n",
       "        vertical-align: middle;\n",
       "    }\n",
       "\n",
       "    .dataframe tbody tr th {\n",
       "        vertical-align: top;\n",
       "    }\n",
       "\n",
       "    .dataframe thead th {\n",
       "        text-align: right;\n",
       "    }\n",
       "</style>\n",
       "<table border=\"1\" class=\"dataframe\">\n",
       "  <thead>\n",
       "    <tr style=\"text-align: right;\">\n",
       "      <th></th>\n",
       "      <th>temperature</th>\n",
       "      <th>humidite</th>\n",
       "      <th>vent</th>\n",
       "      <th>jouer</th>\n",
       "    </tr>\n",
       "  </thead>\n",
       "  <tbody>\n",
       "    <tr>\n",
       "      <th>0</th>\n",
       "      <td>30</td>\n",
       "      <td>85</td>\n",
       "      <td>0</td>\n",
       "      <td>non</td>\n",
       "    </tr>\n",
       "    <tr>\n",
       "      <th>1</th>\n",
       "      <td>27</td>\n",
       "      <td>90</td>\n",
       "      <td>1</td>\n",
       "      <td>non</td>\n",
       "    </tr>\n",
       "    <tr>\n",
       "      <th>2</th>\n",
       "      <td>28</td>\n",
       "      <td>78</td>\n",
       "      <td>0</td>\n",
       "      <td>oui</td>\n",
       "    </tr>\n",
       "    <tr>\n",
       "      <th>3</th>\n",
       "      <td>21</td>\n",
       "      <td>96</td>\n",
       "      <td>0</td>\n",
       "      <td>oui</td>\n",
       "    </tr>\n",
       "    <tr>\n",
       "      <th>4</th>\n",
       "      <td>20</td>\n",
       "      <td>80</td>\n",
       "      <td>0</td>\n",
       "      <td>oui</td>\n",
       "    </tr>\n",
       "  </tbody>\n",
       "</table>\n",
       "</div>"
      ],
      "text/plain": [
       "   temperature  humidite  vent jouer\n",
       "0           30        85     0   non\n",
       "1           27        90     1   non\n",
       "2           28        78     0   oui\n",
       "3           21        96     0   oui\n",
       "4           20        80     0   oui"
      ]
     },
     "execution_count": 47,
     "metadata": {
      "tags": []
     },
     "output_type": "execute_result"
    }
   ],
   "source": [
    "njouer_data = pd.read_csv(\"datasets/jouer_num.csv\")\n",
    "X_njouer = njouer_data.iloc[:, :-1].values # Premières colonnes \n",
    "Y_njouer = njouer_data.iloc[:,-1].values # Dernière colonne \n",
    "njouer_data.head()"
   ]
  },
  {
   "cell_type": "markdown",
   "metadata": {
    "id": "7JkHHRyInk90"
   },
   "source": [
    "#### I.2.1. Index de diversité de Gini\n",
    "\n",
    "Dans le cas de classement, CART utilise l'indexe de diversité Gini pour mesurer l'erreur de classification.\n",
    "Un index de 0 représente la meilleure division; \n",
    "\n",
    "Etant donné : \n",
    "- $S$ liste des valeurs  \n",
    "- $V$ ensemble des valeurs uniques de $S$  (vocabulaire)\n",
    "\n",
    "L'index de diversité  $Gini(S)$ est calculée comme suit : \n",
    "$$Gini(S) = \\sum\\limits_{v \\in V} p(v/S) (1-p(v/S)) = 1 - \\sum\\limits_{v \\in V} p(v/S)^2 $$"
   ]
  },
  {
   "cell_type": "code",
   "execution_count": null,
   "metadata": {
    "colab": {
     "base_uri": "https://localhost:8080/"
    },
    "id": "DCFrXbw4nk91",
    "outputId": "75b6ad87-7b79-4951-ceab-9fc0ba8d4323"
   },
   "outputs": [
    {
     "data": {
      "text/plain": [
       "0.4591836734693877"
      ]
     },
     "execution_count": 48,
     "metadata": {
      "tags": []
     },
     "output_type": "execute_result"
    }
   ],
   "source": [
    "# TODO compléter la fonction Gini\n",
    "def Gini(S):  \n",
    "    V = np.unique(S)\n",
    "    gini = 1\n",
    "    return gini- sum(P(S,v)**2 for v in V)\n",
    "\n",
    "#=====================================================================\n",
    "# TEST UNITAIRE\n",
    "#=====================================================================\n",
    "# Resultat : 0.4591836734693877\n",
    "#---------------------------------------------------------------------\n",
    "\n",
    "Gini(Y_njouer)"
   ]
  },
  {
   "cell_type": "markdown",
   "metadata": {
    "id": "cG6UFSHWnk91"
   },
   "source": [
    "#### I.2.2. Division d'un ensemble\n",
    "\n",
    "**Rien à programmer ici**\n",
    "\n",
    "Ici, on essaye de diviser la liste des prédictions (classes) $Y$ selon une valeur donnée $v$ d'un attribut (caractéristique, colonne) $A$ sur deux listes :\n",
    "- $Y_G$ : une liste contenant les éléments de $Y$ où $A > v$\n",
    "- $Y_D$ : une liste contenant les éléments de $Y$ où $A \\le v$\n"
   ]
  },
  {
   "cell_type": "code",
   "execution_count": null,
   "metadata": {
    "colab": {
     "base_uri": "https://localhost:8080/"
    },
    "id": "vQrIzpdonk92",
    "outputId": "6135487c-77fe-471b-fe26-86c5969cd733"
   },
   "outputs": [
    {
     "data": {
      "text/plain": [
       "(array(['non', 'non', 'oui', 'oui', 'non', 'oui', 'oui', 'oui', 'oui',\n",
       "        'oui', 'non'], dtype=object),\n",
       " array(['oui', 'non', 'oui'], dtype=object))"
      ]
     },
     "execution_count": 49,
     "metadata": {
      "tags": []
     },
     "output_type": "execute_result"
    }
   ],
   "source": [
    "def diviser_CART(Y, A, v):\n",
    "    msk = A > v\n",
    "    return Y[msk], Y[~msk]\n",
    "\n",
    "#=====================================================================\n",
    "# TEST UNITAIRE\n",
    "#=====================================================================\n",
    "# Resultat : \n",
    "# (array(['non', 'non', 'oui', 'oui', 'non', 'oui', 'oui', 'oui', 'oui',\n",
    "#         'oui', 'non'], dtype=object),\n",
    "#  array(['oui', 'non', 'oui'], dtype=object))\n",
    "#---------------------------------------------------------------------\n",
    "\n",
    "diviser_CART(Y_njouer, X_njouer[:,0], 20)"
   ]
  },
  {
   "cell_type": "markdown",
   "metadata": {
    "id": "tggRuyy6nk92"
   },
   "source": [
    "#### I.2.3. Diversité Gini de la division\n",
    "\n",
    "Etant donné : \n",
    "- **Y** : une liste des prédictions\n",
    "- **V** : les différentes valeurs de Y (les classes\n",
    "- S_G, G_D : sous ensembles gauche et droit\n",
    "- $|S| = |S_G| + |S_D|$\n",
    "\n",
    "La diversité Gini de la division : \n",
    "\n",
    "$$Gini_{div}(S_G, S_D) = \\frac{|S_G|}{|S|} Gini(S_G) + \\frac{|S_D|}{|S|} Gini(S_D)$$\n"
   ]
  },
  {
   "cell_type": "code",
   "execution_count": null,
   "metadata": {
    "colab": {
     "base_uri": "https://localhost:8080/"
    },
    "id": "Zye8W8QRnk93",
    "outputId": "fd3f2751-2b94-4cff-dd5d-cfeb9a81fdd7"
   },
   "outputs": [
    {
     "data": {
      "text/plain": [
       "0.4588744588744588"
      ]
     },
     "execution_count": 50,
     "metadata": {
      "tags": []
     },
     "output_type": "execute_result"
    }
   ],
   "source": [
    "# TODO compléter la fonction diversité gini de la division\n",
    "def Gini_div(S_G, S_D): \n",
    "    S_len = float(len(S_G) + len(S_D)) \n",
    "    return (len(S_G)*Gini(S_G)+len(S_D)*Gini(S_D))/S_len\n",
    "\n",
    "#=====================================================================\n",
    "# TEST UNITAIRE\n",
    "#=====================================================================\n",
    "# Resultat : 0.4588744588744589\n",
    "#---------------------------------------------------------------------\n",
    "\n",
    "S_G, S_D = diviser_CART(Y_njouer, X_njouer[:, 0], 20)\n",
    "Gini_div(S_G, S_D)"
   ]
  },
  {
   "cell_type": "markdown",
   "metadata": {
    "id": "wvMlLAvrnk94"
   },
   "source": [
    "#### I.2.4. Choix de l'attribut et la valeur de division CART\n",
    "\n",
    "L'algorithme\n",
    "- Pour chaque ccaractéristique $X_j$ \n",
    "   - Pour chaque valeur $v$ appartennant aux valeurs uniques de $X_j$\n",
    "       1. Diviser $Y$ en se basant sur la valeur $v$ et celles de $X_j$\n",
    "       1. Calculer Gini de cette division \n",
    "       1. Garder l'indice **jj** de la caractéristique qui minimise Gini\n",
    "       1. Garder Gini minimale **gini_jj**\n",
    "       1. Garder la valeur de dévision **v_jj**\n",
    "       "
   ]
  },
  {
   "cell_type": "code",
   "execution_count": null,
   "metadata": {
    "colab": {
     "base_uri": "https://localhost:8080/"
    },
    "id": "ndpv-tiknk94",
    "outputId": "7ee93a11-d768-4d63-c704-421dfc3fbd54"
   },
   "outputs": [
    {
     "data": {
      "text/plain": [
       "(1, 0.39365079365079364, 80)"
      ]
     },
     "execution_count": 51,
     "metadata": {
      "tags": []
     },
     "output_type": "execute_result"
    }
   ],
   "source": [
    "# TODO compléter la fonction du choix de l'attribut et la valeur de division CART\n",
    "def choisir_division_CART(X, Y): \n",
    "    jj = -1\n",
    "    gini_jj = 1.0\n",
    "    v_jj = -1.0\n",
    "    for col in range(X.shape[1]):\n",
    "        for v in np.unique(X[:,col]):\n",
    "            S_G,S_D=diviser_CART(Y,X[:,col],v)\n",
    "            if (Gini_div(S_G,S_D)<gini_jj):\n",
    "                gini_jj=Gini_div(S_G,S_D)\n",
    "                jj = col\n",
    "                v_jj = v\n",
    "    \n",
    "    return jj, gini_jj, v_jj\n",
    "\n",
    "#=====================================================================\n",
    "# TEST UNITAIRE\n",
    "#=====================================================================\n",
    "# Resultat : (1, 0.3936507936507937, 80)\n",
    "#---------------------------------------------------------------------\n",
    "\n",
    "choisir_division_CART(X_njouer, Y_njouer)"
   ]
  },
  {
   "cell_type": "markdown",
   "metadata": {
    "id": "fXwUlSuDnk95"
   },
   "source": [
    "#### I.2.5. Arrêt de division CART\n",
    "\n",
    "**Rien à programmer ici** \n",
    "\n",
    "On va utiliser la même fonction que celle de ID3. Mais, pour être consistant, on va seulement renomer la fonction et passer Gini à la place de l'entropie."
   ]
  },
  {
   "cell_type": "code",
   "execution_count": null,
   "metadata": {
    "colab": {
     "base_uri": "https://localhost:8080/"
    },
    "id": "kYwEp8Jjnk95",
    "outputId": "5d6e78ad-7f5e-42fb-998e-092cad5a05c3"
   },
   "outputs": [
    {
     "data": {
      "text/plain": [
       "('oui', 'non', None)"
      ]
     },
     "execution_count": 18,
     "metadata": {
      "tags": []
     },
     "output_type": "execute_result"
    }
   ],
   "source": [
    "arreter_CART = arreter_ID3\n",
    "\n",
    "#=====================================================================\n",
    "# TEST UNITAIRE\n",
    "#=====================================================================\n",
    "# Resultat : ('oui', 'non', None)\n",
    "#---------------------------------------------------------------------\n",
    "\n",
    "Y_t1 = np.array([\"oui\", \"oui\", \"oui\"])\n",
    "Y_t2 = np.array([\"oui\", \"non\", \"non\"])\n",
    "arreter_CART(Y_t1, H(Y_t1), 2), arreter_CART(Y_t2, H(Y_t2), 4), arreter_CART(Y_t2, H(Y_t2), 2)"
   ]
  },
  {
   "cell_type": "markdown",
   "metadata": {
    "id": "Tb34QgGonk96"
   },
   "source": [
    "#### I.2.6. Création de l'arbre\n",
    "\n",
    "**Rien à programmer ici**"
   ]
  },
  {
   "cell_type": "code",
   "execution_count": null,
   "metadata": {
    "colab": {
     "base_uri": "https://localhost:8080/"
    },
    "id": "XsvFSNR5nk96",
    "outputId": "c2ffddb4-9a70-42ed-9964-0e030727c859"
   },
   "outputs": [
    {
     "name": "stdout",
     "output_type": "stream",
     "text": [
      "Le Code\n",
      "Si X[1]  > 80 Alors\n",
      "    Si X[0]  > 22 Alors\n",
      "        Y est \"non\"\n",
      "    Sinon\n",
      "        Si X[0]  > 21 Alors\n",
      "            Y est \"non\"\n",
      "        Sinon\n",
      "            Y est \"oui\"\n",
      "Sinon\n",
      "    Si X[2]  > 0 Alors\n",
      "        Si X[0]  > 22 Alors\n",
      "            Y est \"oui\"\n",
      "        Sinon\n",
      "            Y est \"non\"\n",
      "    Sinon\n",
      "        Y est \"oui\"\n",
      "\n"
     ]
    }
   ],
   "source": [
    "# Comme Noeud, mais il faut changer un peu, puisqu'on teste sur des \n",
    "# valeurs numériques aussi\n",
    "# Le code sera plus utilisable si on crée une classe commune et on hérite\n",
    "# Mais, je n'ai pas le temps pour tout ça (DEAL WITH IT)\n",
    "class NoeudBin(object): \n",
    "    \n",
    "    nbr = 0\n",
    "    \n",
    "    def __init__(self, num, val, gini, profondeur): \n",
    "        self.num = num # le numéro du caractéristique de dévision dans X\n",
    "        self.val = val\n",
    "        self.gini = gini # le Gini de division\n",
    "        self.pr = profondeur # la profondeur du noeud\n",
    "        self.fils = [] # les fils ; un tableau de deux noeuds: S_G, S_D\n",
    "        self.cls = \"\" # la classe si ce noeud est final (s'il n'y a pas de fils)\n",
    "        self.indent = \"    \" # indentation lorsqu'on génère le code\n",
    "    \n",
    "    # Cette fonction est pour transformer le noeud à une string\n",
    "    #Ici, nous avons redéfini cette fonction afin qu'elle écrive l'arbre \n",
    "    #sous form d'un algorithme ; c'est un parser \n",
    "    def __str__(self):\n",
    "        \n",
    "        indent = self.indent * self.pr # indentation : esthetique\n",
    "        \n",
    "        # s'il n'y a pas de fils, le noeud est terminal ; on imprime la classe\n",
    "        if (len(self.fils)==0):\n",
    "            return indent + 'Y est \"' + self.cls + '\"\\n'\n",
    "         \n",
    "        prefix = ' > '\n",
    "        suffix = ''\n",
    "        \n",
    "        # s'il y a des fils, on boucle sur les fils et on imprime des SI ... ALORS SINON\n",
    "        res = \"\"\n",
    "        res += indent + 'Si X[' + str(self.num) + '] ' + prefix + str(self.val) + suffix + ' Alors\\n' + str(self.fils[0])\n",
    "        res += indent + 'Sinon\\n' + str(self.fils[1])\n",
    "        return res\n",
    "    \n",
    "    # predire un échantillon\n",
    "    def predire(self, x): \n",
    "        \n",
    "        # Si le noeud est final, il rend sa classe \n",
    "        if (len(self.fils)==0):\n",
    "            return self.cls\n",
    "        \n",
    "        # sinon\n",
    "        if x[self.num] > self.val:\n",
    "            return self.fils[0].predire(x)\n",
    "        return self.fils[1].predire(x)\n",
    "\n",
    "    \n",
    "    # générer un code pour graphviz\n",
    "    def graphviz(self): \n",
    "        \n",
    "        nid = 'N' + str(NoeudBin.nbr)\n",
    "        NoeudBin.nbr += 1\n",
    "        \n",
    "        # Si le noeud est final, \n",
    "        if (len(self.fils)==0):\n",
    "            return nid, nid + '[label=\"' + self.cls + '\" shape=ellipse];\\n'\n",
    "        \n",
    "        # Sinon, \n",
    "        # s'il y a des fils, on boucle sur les fils et on imprime des SI ... ALORS\n",
    "        prefix = '] > '\n",
    "        res = nid + '[label=\"X[' + str(self.num) + prefix + str(self.val) + '\\\\n'\n",
    "        res += 'Gini = ' + str(self.gini) + '\"];\\n'\n",
    "        vid_G, code_G = self.fils[0].graphviz()\n",
    "        vid_D, code_D = self.fils[1].graphviz()\n",
    "        \n",
    "        res += code_G + code_D\n",
    "        res += nid + ' -> ' + vid_G + ' [label=\"Vrai\"];\\n'\n",
    "        res += nid + ' -> ' + vid_D + ' [label=\"Faux\"];\\n'\n",
    "        return nid, res\n",
    "\n",
    "# créer l'arbre de décision à partir d'un ensemble X et Y\n",
    "def entrainer_CART(X, Y, profondeur=0, nbr_min=0): \n",
    "    \n",
    "    # Chercher le meilleur caractéristique de X pour diviser Y\n",
    "    jj, gini_jj, v_jj = choisir_division_CART(X, Y)\n",
    "    # Créer un noeud\n",
    "    noeud = NoeudBin(jj, v_jj, gini_jj, profondeur)\n",
    "    # Si l'entropie est 0 donc le noeud est terminal, élagage\n",
    "    \n",
    "    cls = arreter_CART(Y, gini_jj, nbr_min)\n",
    "    if cls:\n",
    "        noeud.cls = cls # la classe du noeud\n",
    "        return noeud # retourner le noeud \n",
    "     \n",
    "    \n",
    "    # Sinon, si le noeud n'est pas terminal, on crée ces fils\n",
    "    profondeur += 1 # la profondeur de ces fils\n",
    "    # création des deux fils\n",
    "    \n",
    "    msk = X[:, jj] > v_jj\n",
    "    \n",
    "    X_G = X[msk]\n",
    "    Y_G = Y[msk]\n",
    "    fils_G = entrainer_CART(X_G, Y_G, profondeur, nbr_min)\n",
    "    X_D = X[~msk]\n",
    "    Y_D = Y[~msk]\n",
    "    fils_D = entrainer_CART(X_D, Y_D, profondeur, nbr_min)\n",
    "    noeud.fils.append(fils_G)\n",
    "    noeud.fils.append(fils_D)\n",
    "    \n",
    "    return noeud\n",
    "\n",
    "arbre_njouer = entrainer_CART(X_njouer, Y_njouer)\n",
    "\n",
    "print(\"Le Code\")\n",
    "print(arbre_njouer)"
   ]
  },
  {
   "cell_type": "markdown",
   "metadata": {
    "id": "-Gm4T1trnk97"
   },
   "source": [
    "#### I.2.7. Regrouper le tous\n",
    "\n",
    "**Rien à programmer ici**"
   ]
  },
  {
   "cell_type": "code",
   "execution_count": null,
   "metadata": {
    "colab": {
     "base_uri": "https://localhost:8080/"
    },
    "id": "9LkY_VMUnk98",
    "outputId": "4b98ec8f-d9e4-46bc-8fce-f181a1ea6611"
   },
   "outputs": [
    {
     "name": "stdout",
     "output_type": "stream",
     "text": [
      "Si humidite  > 80 Alors\n",
      "    Si temperature  > 22 Alors\n",
      "        jouer est \"non\"\n",
      "    Sinon\n",
      "        Si temperature  > 21 Alors\n",
      "            jouer est \"non\"\n",
      "        Sinon\n",
      "            jouer est \"oui\"\n",
      "Sinon\n",
      "    Si vent  > 0 Alors\n",
      "        Si temperature  > 22 Alors\n",
      "            jouer est \"oui\"\n",
      "        Sinon\n",
      "            jouer est \"non\"\n",
      "    Sinon\n",
      "        jouer est \"oui\"\n",
      "\n"
     ]
    }
   ],
   "source": [
    "class CART(object): \n",
    "    \n",
    "    def entrainer(self, X, Y, X_noms=[], Y_nom=\"\", nbr_min=0):\n",
    "        self.arbre = entrainer_CART(X, Y, 0, nbr_min)\n",
    "        code = str(self.arbre)\n",
    "        if len(Y_nom) > 0: \n",
    "            code = code.replace(\"Y\", Y_nom)\n",
    "        for i in range(len(X_noms)): \n",
    "            code = code.replace(\"X[\" + str(i) + \"]\", X_noms[i])\n",
    "        self.code = code\n",
    "        self.X_noms = X_noms\n",
    "    \n",
    "    def predire(self, X): \n",
    "        predictions = []\n",
    "        for i in range(len(X)): \n",
    "            predictions.append(self.arbre.predire(X[i, :]))\n",
    "        return predictions\n",
    "    \n",
    "    def graphviz(self): \n",
    "        nid, code = self.arbre.graphviz()\n",
    "        res = \"digraph Tree {\\n\"\n",
    "        res += \"node [shape=box] ;\"\n",
    "        for i in range(len(self.X_noms)): \n",
    "            code = code.replace(\"X[\" + str(i) + \"]\", self.X_noms[i])\n",
    "        res += code\n",
    "        res += \"}\"\n",
    "        return res\n",
    "\n",
    "cart_classifieur = CART()\n",
    "cart_classifieur.entrainer(X_njouer, Y_njouer, X_noms=[\"temperature\", \"humidite\", \"vent\"], Y_nom=\"jouer\")\n",
    "print(cart_classifieur.code)"
   ]
  },
  {
   "cell_type": "code",
   "execution_count": null,
   "metadata": {
    "colab": {
     "base_uri": "https://localhost:8080/",
     "height": 435
    },
    "id": "K9Cl5kmhnk98",
    "outputId": "74361d04-90ea-410c-beeb-9e245893e748"
   },
   "outputs": [
    {
     "data": {
      "image/svg+xml": [
       "<svg height=\"311pt\" viewBox=\"0.00 0.00 549.00 311.00\" width=\"549pt\" xmlns=\"http://www.w3.org/2000/svg\" xmlns:xlink=\"http://www.w3.org/1999/xlink\">\n",
       "<g class=\"graph\" id=\"graph0\" transform=\"scale(1 1) rotate(0) translate(4 307)\">\n",
       "<title>Tree</title>\n",
       "<polygon fill=\"#ffffff\" points=\"-4,4 -4,-307 545,-307 545,4 -4,4\" stroke=\"transparent\"/>\n",
       "<!-- N0 -->\n",
       "<g class=\"node\" id=\"node1\">\n",
       "<title>N0</title>\n",
       "<polygon fill=\"none\" points=\"367.5,-303 170.5,-303 170.5,-265 367.5,-265 367.5,-303\" stroke=\"#000000\"/>\n",
       "<text fill=\"#000000\" font-family=\"Times,serif\" font-size=\"14.00\" text-anchor=\"middle\" x=\"269\" y=\"-287.8\">humidite &gt; 80</text>\n",
       "<text fill=\"#000000\" font-family=\"Times,serif\" font-size=\"14.00\" text-anchor=\"middle\" x=\"269\" y=\"-272.8\">Gini = 0.39365079365079364</text>\n",
       "</g>\n",
       "<!-- N1 -->\n",
       "<g class=\"node\" id=\"node2\">\n",
       "<title>N1</title>\n",
       "<polygon fill=\"none\" points=\"262.5,-214 65.5,-214 65.5,-176 262.5,-176 262.5,-214\" stroke=\"#000000\"/>\n",
       "<text fill=\"#000000\" font-family=\"Times,serif\" font-size=\"14.00\" text-anchor=\"middle\" x=\"164\" y=\"-198.8\">temperature &gt; 22</text>\n",
       "<text fill=\"#000000\" font-family=\"Times,serif\" font-size=\"14.00\" text-anchor=\"middle\" x=\"164\" y=\"-183.8\">Gini = 0.26666666666666666</text>\n",
       "</g>\n",
       "<!-- N0&#45;&gt;N1 -->\n",
       "<g class=\"edge\" id=\"edge9\">\n",
       "<title>N0-&gt;N1</title>\n",
       "<path d=\"M246.4749,-264.9073C231.2501,-252.0025 210.9677,-234.8107 194.3265,-220.7053\" fill=\"none\" stroke=\"#000000\"/>\n",
       "<polygon fill=\"#000000\" points=\"196.3793,-217.8572 186.4879,-214.0612 191.8532,-223.1971 196.3793,-217.8572\" stroke=\"#000000\"/>\n",
       "<text fill=\"#000000\" font-family=\"Times,serif\" font-size=\"14.00\" text-anchor=\"middle\" x=\"235.5\" y=\"-235.8\">Vrai</text>\n",
       "</g>\n",
       "<!-- N6 -->\n",
       "<g class=\"node\" id=\"node7\">\n",
       "<title>N6</title>\n",
       "<polygon fill=\"none\" points=\"469.5,-214 280.5,-214 280.5,-176 469.5,-176 469.5,-214\" stroke=\"#000000\"/>\n",
       "<text fill=\"#000000\" font-family=\"Times,serif\" font-size=\"14.00\" text-anchor=\"middle\" x=\"375\" y=\"-198.8\">vent &gt; 0</text>\n",
       "<text fill=\"#000000\" font-family=\"Times,serif\" font-size=\"14.00\" text-anchor=\"middle\" x=\"375\" y=\"-183.8\">Gini = 0.2222222222222222</text>\n",
       "</g>\n",
       "<!-- N0&#45;&gt;N6 -->\n",
       "<g class=\"edge\" id=\"edge10\">\n",
       "<title>N0-&gt;N6</title>\n",
       "<path d=\"M291.7397,-264.9073C307.1094,-252.0025 327.585,-234.8107 344.3846,-220.7053\" fill=\"none\" stroke=\"#000000\"/>\n",
       "<polygon fill=\"#000000\" points=\"346.89,-223.1719 352.2979,-214.0612 342.3889,-217.8109 346.89,-223.1719\" stroke=\"#000000\"/>\n",
       "<text fill=\"#000000\" font-family=\"Times,serif\" font-size=\"14.00\" text-anchor=\"middle\" x=\"344\" y=\"-235.8\">Faux</text>\n",
       "</g>\n",
       "<!-- N2 -->\n",
       "<g class=\"node\" id=\"node3\">\n",
       "<title>N2</title>\n",
       "<ellipse cx=\"27\" cy=\"-106\" fill=\"none\" rx=\"27\" ry=\"18\" stroke=\"#000000\"/>\n",
       "<text fill=\"#000000\" font-family=\"Times,serif\" font-size=\"14.00\" text-anchor=\"middle\" x=\"27\" y=\"-102.3\">non</text>\n",
       "</g>\n",
       "<!-- N1&#45;&gt;N2 -->\n",
       "<g class=\"edge\" id=\"edge3\">\n",
       "<title>N1-&gt;N2</title>\n",
       "<path d=\"M134.6101,-175.9073C111.1496,-160.6665 78.4847,-139.4463 55.3123,-124.3927\" fill=\"none\" stroke=\"#000000\"/>\n",
       "<polygon fill=\"#000000\" points=\"56.9225,-121.265 46.6299,-118.7523 53.109,-127.1351 56.9225,-121.265\" stroke=\"#000000\"/>\n",
       "<text fill=\"#000000\" font-family=\"Times,serif\" font-size=\"14.00\" text-anchor=\"middle\" x=\"116.5\" y=\"-146.8\">Vrai</text>\n",
       "</g>\n",
       "<!-- N3 -->\n",
       "<g class=\"node\" id=\"node4\">\n",
       "<title>N3</title>\n",
       "<polygon fill=\"none\" points=\"261.5,-125 72.5,-125 72.5,-87 261.5,-87 261.5,-125\" stroke=\"#000000\"/>\n",
       "<text fill=\"#000000\" font-family=\"Times,serif\" font-size=\"14.00\" text-anchor=\"middle\" x=\"167\" y=\"-109.8\">temperature &gt; 21</text>\n",
       "<text fill=\"#000000\" font-family=\"Times,serif\" font-size=\"14.00\" text-anchor=\"middle\" x=\"167\" y=\"-94.8\">Gini = 0.3333333333333333</text>\n",
       "</g>\n",
       "<!-- N1&#45;&gt;N3 -->\n",
       "<g class=\"edge\" id=\"edge4\">\n",
       "<title>N1-&gt;N3</title>\n",
       "<path d=\"M164.651,-175.6883C165.048,-163.909 165.5634,-148.6187 166.0102,-135.3628\" fill=\"none\" stroke=\"#000000\"/>\n",
       "<polygon fill=\"#000000\" points=\"169.5113,-135.3863 166.3503,-125.274 162.5153,-135.1504 169.5113,-135.3863\" stroke=\"#000000\"/>\n",
       "<text fill=\"#000000\" font-family=\"Times,serif\" font-size=\"14.00\" text-anchor=\"middle\" x=\"181\" y=\"-146.8\">Faux</text>\n",
       "</g>\n",
       "<!-- N4 -->\n",
       "<g class=\"node\" id=\"node5\">\n",
       "<title>N4</title>\n",
       "<ellipse cx=\"126\" cy=\"-18\" fill=\"none\" rx=\"27\" ry=\"18\" stroke=\"#000000\"/>\n",
       "<text fill=\"#000000\" font-family=\"Times,serif\" font-size=\"14.00\" text-anchor=\"middle\" x=\"126\" y=\"-14.3\">non</text>\n",
       "</g>\n",
       "<!-- N3&#45;&gt;N4 -->\n",
       "<g class=\"edge\" id=\"edge1\">\n",
       "<title>N3-&gt;N4</title>\n",
       "<path d=\"M158.1036,-86.9053C152.3423,-74.5396 144.7578,-58.2606 138.4074,-44.6306\" fill=\"none\" stroke=\"#000000\"/>\n",
       "<polygon fill=\"#000000\" points=\"141.4411,-42.8542 134.0453,-35.2679 135.096,-45.8105 141.4411,-42.8542\" stroke=\"#000000\"/>\n",
       "<text fill=\"#000000\" font-family=\"Times,serif\" font-size=\"14.00\" text-anchor=\"middle\" x=\"161.5\" y=\"-57.8\">Vrai</text>\n",
       "</g>\n",
       "<!-- N5 -->\n",
       "<g class=\"node\" id=\"node6\">\n",
       "<title>N5</title>\n",
       "<ellipse cx=\"198\" cy=\"-18\" fill=\"none\" rx=\"27\" ry=\"18\" stroke=\"#000000\"/>\n",
       "<text fill=\"#000000\" font-family=\"Times,serif\" font-size=\"14.00\" text-anchor=\"middle\" x=\"198\" y=\"-14.3\">oui</text>\n",
       "</g>\n",
       "<!-- N3&#45;&gt;N5 -->\n",
       "<g class=\"edge\" id=\"edge2\">\n",
       "<title>N3-&gt;N5</title>\n",
       "<path d=\"M173.7265,-86.9053C178.012,-74.7402 183.6316,-58.7878 188.3843,-45.2961\" fill=\"none\" stroke=\"#000000\"/>\n",
       "<polygon fill=\"#000000\" points=\"191.7919,-46.1568 191.8134,-35.562 185.1896,-43.8309 191.7919,-46.1568\" stroke=\"#000000\"/>\n",
       "<text fill=\"#000000\" font-family=\"Times,serif\" font-size=\"14.00\" text-anchor=\"middle\" x=\"201\" y=\"-57.8\">Faux</text>\n",
       "</g>\n",
       "<!-- N7 -->\n",
       "<g class=\"node\" id=\"node8\">\n",
       "<title>N7</title>\n",
       "<polygon fill=\"none\" points=\"468.5,-125 279.5,-125 279.5,-87 468.5,-87 468.5,-125\" stroke=\"#000000\"/>\n",
       "<text fill=\"#000000\" font-family=\"Times,serif\" font-size=\"14.00\" text-anchor=\"middle\" x=\"374\" y=\"-109.8\">temperature &gt; 22</text>\n",
       "<text fill=\"#000000\" font-family=\"Times,serif\" font-size=\"14.00\" text-anchor=\"middle\" x=\"374\" y=\"-94.8\">Gini = 0.3333333333333333</text>\n",
       "</g>\n",
       "<!-- N6&#45;&gt;N7 -->\n",
       "<g class=\"edge\" id=\"edge7\">\n",
       "<title>N6-&gt;N7</title>\n",
       "<path d=\"M374.783,-175.6883C374.6507,-163.909 374.4789,-148.6187 374.3299,-135.3628\" fill=\"none\" stroke=\"#000000\"/>\n",
       "<polygon fill=\"#000000\" points=\"377.8288,-135.234 374.2166,-125.274 370.8292,-135.3127 377.8288,-135.234\" stroke=\"#000000\"/>\n",
       "<text fill=\"#000000\" font-family=\"Times,serif\" font-size=\"14.00\" text-anchor=\"middle\" x=\"387.5\" y=\"-146.8\">Vrai</text>\n",
       "</g>\n",
       "<!-- N10 -->\n",
       "<g class=\"node\" id=\"node11\">\n",
       "<title>N10</title>\n",
       "<ellipse cx=\"514\" cy=\"-106\" fill=\"none\" rx=\"27\" ry=\"18\" stroke=\"#000000\"/>\n",
       "<text fill=\"#000000\" font-family=\"Times,serif\" font-size=\"14.00\" text-anchor=\"middle\" x=\"514\" y=\"-102.3\">oui</text>\n",
       "</g>\n",
       "<!-- N6&#45;&gt;N10 -->\n",
       "<g class=\"edge\" id=\"edge8\">\n",
       "<title>N6-&gt;N10</title>\n",
       "<path d=\"M404.819,-175.9073C428.8687,-160.5085 462.4519,-139.0056 486.0025,-123.9264\" fill=\"none\" stroke=\"#000000\"/>\n",
       "<polygon fill=\"#000000\" points=\"487.9622,-126.8277 494.4965,-118.4878 484.1876,-120.9326 487.9622,-126.8277\" stroke=\"#000000\"/>\n",
       "<text fill=\"#000000\" font-family=\"Times,serif\" font-size=\"14.00\" text-anchor=\"middle\" x=\"468\" y=\"-146.8\">Faux</text>\n",
       "</g>\n",
       "<!-- N8 -->\n",
       "<g class=\"node\" id=\"node9\">\n",
       "<title>N8</title>\n",
       "<ellipse cx=\"338\" cy=\"-18\" fill=\"none\" rx=\"27\" ry=\"18\" stroke=\"#000000\"/>\n",
       "<text fill=\"#000000\" font-family=\"Times,serif\" font-size=\"14.00\" text-anchor=\"middle\" x=\"338\" y=\"-14.3\">oui</text>\n",
       "</g>\n",
       "<!-- N7&#45;&gt;N8 -->\n",
       "<g class=\"edge\" id=\"edge5\">\n",
       "<title>N7-&gt;N8</title>\n",
       "<path d=\"M366.1885,-86.9053C361.1631,-74.6209 354.5578,-58.4747 349.0045,-44.9\" fill=\"none\" stroke=\"#000000\"/>\n",
       "<polygon fill=\"#000000\" points=\"352.2103,-43.4922 345.1845,-35.562 345.7314,-46.1427 352.2103,-43.4922\" stroke=\"#000000\"/>\n",
       "<text fill=\"#000000\" font-family=\"Times,serif\" font-size=\"14.00\" text-anchor=\"middle\" x=\"371.5\" y=\"-57.8\">Vrai</text>\n",
       "</g>\n",
       "<!-- N9 -->\n",
       "<g class=\"node\" id=\"node10\">\n",
       "<title>N9</title>\n",
       "<ellipse cx=\"410\" cy=\"-18\" fill=\"none\" rx=\"27\" ry=\"18\" stroke=\"#000000\"/>\n",
       "<text fill=\"#000000\" font-family=\"Times,serif\" font-size=\"14.00\" text-anchor=\"middle\" x=\"410\" y=\"-14.3\">non</text>\n",
       "</g>\n",
       "<!-- N7&#45;&gt;N9 -->\n",
       "<g class=\"edge\" id=\"edge6\">\n",
       "<title>N7-&gt;N9</title>\n",
       "<path d=\"M381.8115,-86.9053C386.8369,-74.6209 393.4422,-58.4747 398.9955,-44.9\" fill=\"none\" stroke=\"#000000\"/>\n",
       "<polygon fill=\"#000000\" points=\"402.2686,-46.1427 402.8155,-35.562 395.7897,-43.4922 402.2686,-46.1427\" stroke=\"#000000\"/>\n",
       "<text fill=\"#000000\" font-family=\"Times,serif\" font-size=\"14.00\" text-anchor=\"middle\" x=\"411\" y=\"-57.8\">Faux</text>\n",
       "</g>\n",
       "</g>\n",
       "</svg>"
      ],
      "text/plain": [
       "<IPython.core.display.SVG object>"
      ]
     },
     "metadata": {
      "tags": []
     },
     "output_type": "display_data"
    }
   ],
   "source": [
    "# C'est juste une visualisation du graphe\n",
    "# Si ça ne marche pas, ce n'ai pas grave\n",
    "try:\n",
    "    from IPython.display import SVG\n",
    "    from graphviz import Source\n",
    "    from IPython.display import display\n",
    "    \n",
    "    graph = Source(cart_classifieur.graphviz())\n",
    "    display(SVG(graph.pipe(format='svg')))\n",
    "\n",
    "except ImportError:\n",
    "    print(\"il faut installer graphviz\")"
   ]
  },
  {
   "cell_type": "markdown",
   "metadata": {
    "id": "bZ1rzXNank99"
   },
   "source": [
    "## II. Application et analyse\n",
    "\n",
    "On va utiliser le dataset [Cars Data](https://www.kaggle.com/abineshkumark/carsdata) pour classer les voitures en trois classes : US., Euroupe. ou Japan. "
   ]
  },
  {
   "cell_type": "code",
   "execution_count": null,
   "metadata": {
    "colab": {
     "base_uri": "https://localhost:8080/",
     "height": 197
    },
    "id": "clfdm9TGnk99",
    "outputId": "27f7bbc5-45ee-43b7-fb56-c4bcdcee6391"
   },
   "outputs": [
    {
     "data": {
      "text/html": [
       "<div>\n",
       "<style scoped>\n",
       "    .dataframe tbody tr th:only-of-type {\n",
       "        vertical-align: middle;\n",
       "    }\n",
       "\n",
       "    .dataframe tbody tr th {\n",
       "        vertical-align: top;\n",
       "    }\n",
       "\n",
       "    .dataframe thead th {\n",
       "        text-align: right;\n",
       "    }\n",
       "</style>\n",
       "<table border=\"1\" class=\"dataframe\">\n",
       "  <thead>\n",
       "    <tr style=\"text-align: right;\">\n",
       "      <th></th>\n",
       "      <th>mpg</th>\n",
       "      <th>cylinders</th>\n",
       "      <th>cubicinches</th>\n",
       "      <th>hp</th>\n",
       "      <th>weightlbs</th>\n",
       "      <th>time-to-60</th>\n",
       "      <th>year</th>\n",
       "      <th>brand</th>\n",
       "    </tr>\n",
       "  </thead>\n",
       "  <tbody>\n",
       "    <tr>\n",
       "      <th>0</th>\n",
       "      <td>14.0</td>\n",
       "      <td>8</td>\n",
       "      <td>350.0</td>\n",
       "      <td>165</td>\n",
       "      <td>4209.0</td>\n",
       "      <td>12</td>\n",
       "      <td>1972</td>\n",
       "      <td>US.</td>\n",
       "    </tr>\n",
       "    <tr>\n",
       "      <th>1</th>\n",
       "      <td>31.9</td>\n",
       "      <td>4</td>\n",
       "      <td>89.0</td>\n",
       "      <td>71</td>\n",
       "      <td>1925.0</td>\n",
       "      <td>14</td>\n",
       "      <td>1980</td>\n",
       "      <td>Europe.</td>\n",
       "    </tr>\n",
       "    <tr>\n",
       "      <th>2</th>\n",
       "      <td>17.0</td>\n",
       "      <td>8</td>\n",
       "      <td>302.0</td>\n",
       "      <td>140</td>\n",
       "      <td>3449.0</td>\n",
       "      <td>11</td>\n",
       "      <td>1971</td>\n",
       "      <td>US.</td>\n",
       "    </tr>\n",
       "    <tr>\n",
       "      <th>3</th>\n",
       "      <td>15.0</td>\n",
       "      <td>8</td>\n",
       "      <td>400.0</td>\n",
       "      <td>150</td>\n",
       "      <td>3761.0</td>\n",
       "      <td>10</td>\n",
       "      <td>1971</td>\n",
       "      <td>US.</td>\n",
       "    </tr>\n",
       "    <tr>\n",
       "      <th>4</th>\n",
       "      <td>30.5</td>\n",
       "      <td>4</td>\n",
       "      <td>98.0</td>\n",
       "      <td>63</td>\n",
       "      <td>2051.0</td>\n",
       "      <td>17</td>\n",
       "      <td>1978</td>\n",
       "      <td>US.</td>\n",
       "    </tr>\n",
       "  </tbody>\n",
       "</table>\n",
       "</div>"
      ],
      "text/plain": [
       "    mpg  cylinders  cubicinches   hp  weightlbs  time-to-60  year    brand\n",
       "0  14.0          8        350.0  165     4209.0          12  1972      US.\n",
       "1  31.9          4         89.0   71     1925.0          14  1980  Europe.\n",
       "2  17.0          8        302.0  140     3449.0          11  1971      US.\n",
       "3  15.0          8        400.0  150     3761.0          10  1971      US.\n",
       "4  30.5          4         98.0   63     2051.0          17  1978      US."
      ]
     },
     "execution_count": 55,
     "metadata": {
      "tags": []
     },
     "output_type": "execute_result"
    }
   ],
   "source": [
    "# Lecture du dataset\n",
    "cars_data = pd.read_csv('datasets/cars.csv', skipinitialspace=True)\n",
    "# On a remarqué que le type de cette caractéristique n'est pas bien détecté\n",
    "cars_data[\"cubicinches\"] = pd.to_numeric(cars_data[\"cubicinches\"])\n",
    "# supprimer les valeurs absentes \n",
    "cars_data.dropna(inplace=True)\n",
    "# Yay! We did it! Voici les premières lignes du dataset\n",
    "cars_data.head()"
   ]
  },
  {
   "cell_type": "code",
   "execution_count": null,
   "metadata": {
    "colab": {
     "base_uri": "https://localhost:8080/"
    },
    "id": "bj65V808nk9-",
    "outputId": "8e703bf6-4e96-4cb8-a36d-976b71450cf7"
   },
   "outputs": [
    {
     "data": {
      "text/plain": [
       "((204, 7), (52, 7))"
      ]
     },
     "execution_count": 56,
     "metadata": {
      "tags": []
     },
     "output_type": "execute_result"
    }
   ],
   "source": [
    "from sklearn.model_selection import train_test_split\n",
    "\n",
    "X_cars = cars_data.values[:, :-1]\n",
    "Y_cars = cars_data.values[:,-1]\n",
    "\n",
    "X_cars_train, X_cars_test, Y_cars_train, Y_cars_test = train_test_split(X_cars, Y_cars, test_size=0.2, random_state=0) \n",
    "\n",
    "X_cars_train.shape, X_cars_test.shape"
   ]
  },
  {
   "cell_type": "markdown",
   "metadata": {
    "id": "jx3J97GUnk9-"
   },
   "source": [
    "### II.1. Arbres de décision\n",
    "\n",
    "Dans l'implémentation Scikit-learn des arbres de décision (**DecisionTreeClassifier**), les caractéristiques sont permutées d'une façon aléatoire à chaque division. Ceci rendre l'arbre non déterministe. Pour arrêter ça, on utilise la proporiété **random_state=0**\n",
    "\n",
    "#### II.1.1. Critère de choix des caractéristiques\n",
    "\n",
    "Nous avons entraîné deux arbres de décision CART avec les critères de division : \n",
    "- Entropy\n",
    "- Gini\n",
    "\n",
    "**TODO : Analyser les résultats**\n",
    "- Que remarquez-vous concernant la structure des deux arbres : ENTOPY (à gauche) et GINI (à droit) ? La structure veut dire : la profendeur et le nombre des feuilles.\n",
    "- Justifier le temps d'entraînement et de test en se basant sur les deux algorithmes et les deux structures discutées.\n",
    "\n",
    "**Réponse**\n",
    "- **la structure de l'arbre**: **GINI**: nbfeuille = 32, profondeur = 17 - **ENTROPY**:  nbfeuille = 32, profondeur = 15\n",
    "donc GINI est plus profonde par rapport à ENTROPY, mais ils ont le meme nombre de feuilles \n",
    "- **test**: pour le test, GINI doit etre plus rapide car pour faire un test il faut parcourir l'arbre en profondeur, et la profondeur de l'arbre basé sur GINI est infereur a la profondeur de l'arbre basé sur ENTROPY. de plus le calcul d'ENTROPY est plus complexe car elle utilise des logarithmes et par conséquent, le calcul de l'indice de GINI sera plus rapide.\n",
    "\n",
    "- **entraînement**: le temps est pris pour l'exploration de l'arbre des données et la construction de la représentation hiérarchique de la structure des données, malgré le nombre de feuilles est le meme mais la profondeur est différent et donc, GINI prend plus de temps pour construire la structure qui est plus profonde.\n",
    "\n",
    " \n"
   ]
  },
  {
   "cell_type": "code",
   "execution_count": null,
   "metadata": {
    "colab": {
     "base_uri": "https://localhost:8080/"
    },
    "id": "oQ3lXthvnk9_",
    "outputId": "464a6c6b-7e80-4ba0-ea45-f2f9fea13f68"
   },
   "outputs": [
    {
     "name": "stdout",
     "output_type": "stream",
     "text": [
      "Fini\n"
     ]
    }
   ],
   "source": [
    "from sklearn.tree import DecisionTreeClassifier\n",
    "from sklearn.metrics import f1_score\n",
    "import timeit\n",
    "from sklearn import tree\n",
    "\n",
    "Xchoix_train = X_cars_train\n",
    "Ychoix_train = Y_cars_train\n",
    "Xchoix_test = X_cars_test\n",
    "Ychoix_test = Y_cars_test\n",
    "fnames = cars_data.columns\n",
    "\n",
    "#Xchoix_train = X_njouer[4:, :]\n",
    "#Ychoix_train = Y_njouer[4:]\n",
    "#Xchoix_test = X_njouer[:4, :]\n",
    "#Ychoix_test = Y_njouer[:4]\n",
    "#fnames = [\"temperature\", \"humidite\", \"vent\"]\n",
    "\n",
    "\n",
    "gini_stats = []\n",
    "entropy_stats = []\n",
    "gini_classifieur = DecisionTreeClassifier(criterion=\"gini\", random_state=0)\n",
    "entropy_classifieur = DecisionTreeClassifier(criterion=\"entropy\", random_state=0)\n",
    "\n",
    "# ============ GINI ====================\n",
    "# ............ Entraînement ............\n",
    "temps_debut = timeit.default_timer()\n",
    "gini_classifieur.fit(Xchoix_train, Ychoix_train)\n",
    "gini_stats.append(timeit.default_timer() - temps_debut)\n",
    "# ..... Evaluation entrainement ........\n",
    "gini_stats.append(f1_score(Ychoix_train, gini_classifieur.predict(Xchoix_train), average=\"micro\"))\n",
    "# ................ Test ................\n",
    "temps_debut = timeit.default_timer()\n",
    "Ychoix_pred = gini_classifieur.predict(Xchoix_test)\n",
    "gini_stats.append(timeit.default_timer() - temps_debut)\n",
    "# ........... Evaluation test ...........\n",
    "gini_stats.append(f1_score(Ychoix_test, Ychoix_pred, average=\"micro\"))\n",
    "\n",
    "# =========== Entropy ==================\n",
    "# ............ Entraînement ............\n",
    "temps_debut = timeit.default_timer()\n",
    "entropy_classifieur.fit(Xchoix_train, Ychoix_train)\n",
    "entropy_stats.append(timeit.default_timer() - temps_debut)\n",
    "# ..... Evaluation entrainement ........\n",
    "entropy_stats.append(f1_score(Ychoix_train, entropy_classifieur.predict(Xchoix_train), average=\"micro\"))\n",
    "# ................ Test ................\n",
    "temps_debut = timeit.default_timer()\n",
    "Ychoix_pred = entropy_classifieur.predict(Xchoix_test)\n",
    "entropy_stats.append(timeit.default_timer() - temps_debut)\n",
    "# ........... Evaluation test ...........\n",
    "entropy_stats.append(f1_score(Ychoix_test, Ychoix_pred, average=\"micro\"))\n",
    "\n",
    "print(\"Fini\")"
   ]
  },
  {
   "cell_type": "code",
   "execution_count": null,
   "metadata": {
    "colab": {
     "base_uri": "https://localhost:8080/",
     "height": 683
    },
    "id": "IQ7Kbbumnk9_",
    "outputId": "8fd42071-18d6-4f9b-d280-1a1bf6f6ae57"
   },
   "outputs": [
    {
     "data": {
      "image/png": "[encoded data removed]",
      "text/plain": [
       "<Figure size 1440x864 with 2 Axes>"
      ]
     },
     "metadata": {
      "needs_background": "light",
      "tags": []
     },
     "output_type": "display_data"
    }
   ],
   "source": [
    "fig, (ax1, ax2) = plt.subplots(1,2)\n",
    "fig.set_figwidth(20)\n",
    "fig.set_figheight(12)\n",
    "tree.plot_tree(entropy_classifieur, ax=ax1, feature_names=fnames, filled=True)\n",
    "tree.plot_tree(gini_classifieur, ax=ax2, feature_names=fnames, filled=True)\n",
    "plt.show()"
   ]
  },
  {
   "cell_type": "code",
   "execution_count": null,
   "metadata": {
    "colab": {
     "base_uri": "https://localhost:8080/",
     "height": 166
    },
    "id": "15R-Dyqbnk-A",
    "outputId": "3e17bf78-002e-4cf8-8097-8f9755b18830"
   },
   "outputs": [
    {
     "data": {
      "text/html": [
       "<div>\n",
       "<style scoped>\n",
       "    .dataframe tbody tr th:only-of-type {\n",
       "        vertical-align: middle;\n",
       "    }\n",
       "\n",
       "    .dataframe tbody tr th {\n",
       "        vertical-align: top;\n",
       "    }\n",
       "\n",
       "    .dataframe thead th {\n",
       "        text-align: right;\n",
       "    }\n",
       "</style>\n",
       "<table border=\"1\" class=\"dataframe\">\n",
       "  <thead>\n",
       "    <tr style=\"text-align: right;\">\n",
       "      <th></th>\n",
       "      <th>Criteres</th>\n",
       "      <th>Entropie</th>\n",
       "      <th>Gini</th>\n",
       "    </tr>\n",
       "  </thead>\n",
       "  <tbody>\n",
       "    <tr>\n",
       "      <th>0</th>\n",
       "      <td>Temps Entrainement</td>\n",
       "      <td>0.001730</td>\n",
       "      <td>0.001955</td>\n",
       "    </tr>\n",
       "    <tr>\n",
       "      <th>1</th>\n",
       "      <td>F1 Entrainement</td>\n",
       "      <td>1.000000</td>\n",
       "      <td>1.000000</td>\n",
       "    </tr>\n",
       "    <tr>\n",
       "      <th>2</th>\n",
       "      <td>Temps Test</td>\n",
       "      <td>0.000222</td>\n",
       "      <td>0.000241</td>\n",
       "    </tr>\n",
       "    <tr>\n",
       "      <th>3</th>\n",
       "      <td>F1 Test</td>\n",
       "      <td>0.826923</td>\n",
       "      <td>0.788462</td>\n",
       "    </tr>\n",
       "  </tbody>\n",
       "</table>\n",
       "</div>"
      ],
      "text/plain": [
       "             Criteres  Entropie      Gini\n",
       "0  Temps Entrainement  0.001730  0.001955\n",
       "1     F1 Entrainement  1.000000  1.000000\n",
       "2          Temps Test  0.000222  0.000241\n",
       "3             F1 Test  0.826923  0.788462"
      ]
     },
     "execution_count": 61,
     "metadata": {
      "tags": []
     },
     "output_type": "execute_result"
    }
   ],
   "source": [
    "pd.DataFrame({\n",
    "    \"Criteres\" : [\"Temps Entrainement\", \"F1 Entrainement\", \"Temps Test\", \"F1 Test\"],\n",
    "    \"Entropie\" : entropy_stats,\n",
    "    \"Gini\" : gini_stats\n",
    "})"
   ]
  },
  {
   "cell_type": "markdown",
   "metadata": {
    "id": "cozI1tkOnk-A"
   },
   "source": [
    "#### II.1.2. Profondeur maximale de l'arbre\n",
    "\n",
    "Pour chaque profondeur, on entraîne un modèle et on mesure sa convergence et sa performance en terme du score F1. \n",
    "\n",
    "**TODO : Analyser les résultats**\n",
    "- Que remarquez-vous ? (Est-ce que plus de profondeur veut dire le modèle va généraliser mieux)\n",
    "- Justifier\n",
    "\n",
    "**Réponse**\n",
    "- a partir du profondeur 15 de l'arbre, les tests se stabilise à F1=0.8 et l'entraînement se stabilise à F1=1, donc plus de profondeur ne veut pas dire que le modèle va généraliser mieux. Il est aussi possible de dire qu'il existe un seuil au-delà duquel il n'y a pas de gain significatif en terme de généralisation ou convergence. \n",
    "\n",
    "- Justification: \n",
    "Les arbres de decision ne peuvent pas se généraliser à des variations non vues dans l'ensemble d'apprentissage. lorsque un arbre de décision crée une feuille (classe) il est besoin d'au moins un exemple de cette catégorie, maximiser la profondeur veut dire augmenter la sensibilité de l'arbre et le rendre plus complexes et cela peut causer un sur-apprentissage qui est dû à la quantité de spécificité que nous cherchons à atteindre dans l'arbre.  \n",
    "pour un test, pour faire une prédiction il doit traverser beaucoup de noeud et aller en profondeur et donc ce n'est pas bon pour la performance, (et c'est une classe similaire n'existe pas, il ne peut pas prédire). \n"
   ]
  },
  {
   "cell_type": "code",
   "execution_count": null,
   "metadata": {
    "colab": {
     "base_uri": "https://localhost:8080/",
     "height": 279
    },
    "id": "DxyoRvM1nk-B",
    "outputId": "0335ba84-400c-431f-f171-d4b320d04c6c"
   },
   "outputs": [
    {
     "data": {
      "image/png": "[encoded data removed]",
      "text/plain": [
       "<Figure size 432x288 with 1 Axes>"
      ]
     },
     "metadata": {
      "needs_background": "light",
      "tags": []
     },
     "output_type": "display_data"
    }
   ],
   "source": [
    "MAX_PROF = 40\n",
    "\n",
    "MAX_PROF_lst = range(1, MAX_PROF+1, 1)\n",
    "\n",
    "f1_train_pm = []\n",
    "f1_test_pm = []\n",
    "for max_prof in MAX_PROF_lst:\n",
    "    classifieur = DecisionTreeClassifier(random_state=0, max_depth=max_prof)\n",
    "    classifieur.fit(X_cars_train, Y_cars_train)\n",
    "    f1_train_pm.append(f1_score(Y_cars_train, classifieur.predict(X_cars_train), average=\"micro\"))\n",
    "    f1_test_pm.append(f1_score(Y_cars_test, classifieur.predict(X_cars_test), average=\"micro\"))\n",
    "\n",
    "plt.plot(MAX_PROF_lst, f1_train_pm, color=\"blue\", label=\"Convergence (entrainement)\")\n",
    "plt.plot(MAX_PROF_lst, f1_test_pm, color=\"red\", label=\"Test\")\n",
    "plt.ylabel(\"F1\")\n",
    "plt.xlabel(\"Profondeur max de l'arbre\")\n",
    "plt.legend()\n",
    "#plt.rcParams[\"figure.figsize\"] = (3,7)\n",
    "plt.show()"
   ]
  },
  {
   "cell_type": "markdown",
   "metadata": {
    "id": "RnCPhE5rnk-B"
   },
   "source": [
    "#### II.1.3. Observations minimales dans les feuilles\n",
    "\n",
    "Pour chaque nombre des observations minimales dans les feuilles, on entraîne un modèle et on mesure sa convergence et sa performance en terme du score F1. \n",
    "\n",
    "**TODO : Analyser les résultats**\n",
    "- Que remarquez-vous ?\n",
    "- Justifier pourquoi la performance se diminue (en indiquant si ce critère d'arrêt garantie un apprentissage normale ou peut causer un sur-apprentissage ou sous-apprentissage)\n",
    "\n",
    "**Réponse**\n",
    "- un nombre petit d'observation donne un bon convergence (entrainement), mais mauvais résulatat pour les tests, et en augmentant les observations minimales dans une feuille, la performance diminue pour les tests et entrainement. \n",
    "\n",
    "- Si le nombre de feuilles est grand, (*le nombre d'observations est petit*) la performance diminue car l'arbre devient complexe à construire, et difficile à traverser, et par conséquent elle augmente la possibilité de sur-apprentissage.\n",
    "Si le nombre de classes est petit, (*le nombre d'observations est grand*) donc la séparation des classes n'est pas bonne, et par conséquent on obteint un arbre qui est facile a construire (vu son petit taille) et meme facile à traverser mais qui donne des résultat érronées, et cela par conséquent augmente la possibilité de sous-apprentissage. Le bon choix d'un nombre d'observations minimales dans les feuilles peut faire un bon critère d'arrêt et garantie  un apprentissage normale. "
   ]
  },
  {
   "cell_type": "code",
   "execution_count": null,
   "metadata": {
    "colab": {
     "base_uri": "https://localhost:8080/",
     "height": 279
    },
    "id": "1xwNqaYcnk-C",
    "outputId": "9528ac1a-39e8-412f-8eef-01d4548a06e3"
   },
   "outputs": [
    {
     "data": {
      "image/png": "[encoded data removed]",
      "text/plain": [
       "<Figure size 432x288 with 1 Axes>"
      ]
     },
     "metadata": {
      "needs_background": "light",
      "tags": []
     },
     "output_type": "display_data"
    }
   ],
   "source": [
    "MIN_FEUILLE = 40\n",
    "\n",
    "MIN_FEUILLE_lst = range(1, MIN_FEUILLE+1, 1)\n",
    "\n",
    "f1_train_mf = []\n",
    "f1_test_mf = []\n",
    "for min_feuille in MIN_FEUILLE_lst:\n",
    "    classifieur = DecisionTreeClassifier(random_state=0, min_samples_leaf=min_feuille)\n",
    "    classifieur.fit(X_cars_train, Y_cars_train)\n",
    "    f1_train_mf.append(f1_score(Y_cars_train, classifieur.predict(X_cars_train), average=\"micro\"))\n",
    "    f1_test_mf.append(f1_score(Y_cars_test, classifieur.predict(X_cars_test), average=\"micro\"))\n",
    "\n",
    "plt.plot(MIN_FEUILLE_lst, f1_train_mf, color=\"blue\", label=\"Convergence (entrainement)\")\n",
    "plt.plot(MIN_FEUILLE_lst, f1_test_mf, color=\"red\", label=\"Test\")\n",
    "plt.ylabel(\"F1\")\n",
    "plt.xlabel(\"Observations minimales dans les feuilles\")\n",
    "plt.legend()\n",
    "#plt.rcParams[\"figure.figsize\"] = (3,7)\n",
    "plt.show()"
   ]
  },
  {
   "cell_type": "markdown",
   "metadata": {
    "id": "2im60ptTnk-D"
   },
   "source": [
    "### II.2. Forêts aléatoires\n",
    "\n",
    "#### II.2.1. Nombre des arbres\n",
    "\n",
    "Pour chaque nombre des arbres dans le forêt, on entraîne un modèle et on mesure sa convergence et sa performance en terme du score F1. \n",
    "\n",
    "**TODO : Analyser les résultats**\n",
    "- Que remarquez-vous ? (convergence et généralisation)\n",
    "\n",
    "**Réponse**\n",
    "- pour *l'entrainement*, à partir de 30 arbres ça devient inutile d'ajouter des arbres à la forêt car, la convergence se stabilise. Donc, il est aussi possible de dire qu'il existe un seuil au-delà duquel il n'y a pas de gain significatif en terme de convergence. pour *les tests* c'est un peu aléatoire (en ajoutant des arbres, des fois il augmente, des fois il diminue), Mais, il atteint son maximum lorsque l'entraînement commence à se stabiliser (les environs de 30 arbres)"
   ]
  },
  {
   "cell_type": "code",
   "execution_count": null,
   "metadata": {
    "colab": {
     "base_uri": "https://localhost:8080/",
     "height": 279
    },
    "id": "U3IMulbsnk-D",
    "outputId": "cf716831-61fa-4cf6-91b1-809f80a9111d"
   },
   "outputs": [
    {
     "data": {
      "image/png": "[encoded data removed]",
      "text/plain": [
       "<Figure size 432x288 with 1 Axes>"
      ]
     },
     "metadata": {
      "needs_background": "light",
      "tags": []
     },
     "output_type": "display_data"
    }
   ],
   "source": [
    "from sklearn.ensemble import RandomForestClassifier\n",
    "\n",
    "MAX_ARBRE = 100\n",
    "\n",
    "MAX_ARBRE_lst = range(1, MAX_ARBRE+1, 1)\n",
    "\n",
    "f1_train_nbarbres = []\n",
    "f1_test_nbarbres = []\n",
    "for max_arbres in MAX_ARBRE_lst:\n",
    "    classifieur = RandomForestClassifier(n_estimators=max_arbres)\n",
    "    classifieur.fit(X_cars_train, Y_cars_train)\n",
    "    f1_train_nbarbres.append(f1_score(Y_cars_train, classifieur.predict(X_cars_train), average=\"micro\"))\n",
    "    f1_test_nbarbres.append(f1_score(Y_cars_test, classifieur.predict(X_cars_test), average=\"micro\"))\n",
    "\n",
    "plt.plot(MAX_ARBRE_lst, f1_train_nbarbres, color=\"blue\", label=\"Convergence (entrainement)\")\n",
    "plt.plot(MAX_ARBRE_lst, f1_test_nbarbres, color=\"red\", label=\"Test\")\n",
    "plt.ylabel(\"F1\")\n",
    "plt.xlabel(\"Nombre des arbres\")\n",
    "plt.legend()\n",
    "#plt.rcParams[\"figure.figsize\"] = (3,7)\n",
    "plt.show()"
   ]
  },
  {
   "cell_type": "markdown",
   "metadata": {
    "id": "sYAUUANInk-E"
   },
   "source": [
    "#### II.2.2. Profondeur maximale des arbres\n",
    "\n",
    "Pour chaque profondeur, on entraîne un forêt et on mesure sa convergence et sa performance en terme du score F1. On compare les résultats avec les arbres équivalents (avec la même profondeur)\n",
    "\n",
    "**TODO : Analyser les résultats**\n",
    "- Comparer la convergence des forêts et des arbres en terme de la profondeur maximale\n",
    "- Comparer la généralisation des forêts et des arbres en terme de la profondeur maximale\n",
    "- Justifier ces résultats (en indiquant pourquoi nous avons des oscillations dans F1 test des forêts)\n",
    "\n",
    "**Réponse**\n",
    "\n",
    "Les arbres de décision peuvent être instables car de petites variations dans les données peuvent entraîner la génération d'un arbre complètement différent. et c'est ce qu'on doit abaisser par des méthodes telles que le bagging des forets aléatoires. \n",
    "- les arbres sont plus profonde par rapport aux forets aleatoires, la convergence des forêts est un peu mieux par rapport à la convergence des arbres (avant d'arriver à 15 arbres, car à partir de 15, il n y aura aucun différence). revenant à la nature des algorithmes de construction, la forêt aléatoire utilise le bootrapping et aussi choisit un échantillon de caractéristiques plutôt que toutes, en d'autres termes pour faire pousser un arbre, et c'est plus facile de construire un ensemble de petit arbres (forêt) que de conctruire toute un grand arbre, ce qui justifie que la convergenceest plus grands dans les forêts par rapport à un seul arbre quelque soit la profondeur.  \n",
    "\n",
    "- pour la généralisation, les forêts peut s'adapter au changement mieux que les arbres, et donc pour les forêts le model est moins sensible aux données d'entraînement, et on peut clairement voir sur le graphe que les tests sur les forêts sont mieux que les tests sur les arbres. en plus pour l'arbre à partir de profondeur 15, les résultat d'un test ne change pas meme si l'arbre a un profondeur plus grand ça reste toujours la meme, donc il n'y aura aucun gain en terme de généralisation pour un arbre avec profondeur superieur de 15, ce qui justifie que la généralisation est plus grands dans les forêts par rapport à un seul arbre quelque soit la profondeur. \n",
    "\n",
    "- la cause des oscillations dans le test des forêts et son absence dans les arbres est que les arbres sont stables, il existe q'un seul arbre et par conséquent les tests convergent, mais pour les forêts aléatoires (ou la prédiction reviens au vote de la majorité, on choisit l'arbre qui donne les meilleurs performances) et comme son nom l'indique, ils sont aléatoire, la construction des bootstrap est aléatoire et la sélection des attributs est aléatoire aussi pour chaque construction, \n",
    "et donc la précision ne vas jamais se stabilier"
   ]
  },
  {
   "cell_type": "code",
   "execution_count": null,
   "metadata": {
    "colab": {
     "base_uri": "https://localhost:8080/",
     "height": 279
    },
    "id": "6LRJ23_lnk-E",
    "outputId": "9e62cbc4-79eb-4cc7-ab36-15c4c0246701"
   },
   "outputs": [
    {
     "data": {
      "image/png": "[encoded data removed]",
      "text/plain": [
       "<Figure size 432x288 with 1 Axes>"
      ]
     },
     "metadata": {
      "needs_background": "light",
      "tags": []
     },
     "output_type": "display_data"
    }
   ],
   "source": [
    "f1_train_pm_foret = []\n",
    "f1_test_pm_foret = []\n",
    "for max_prof in MAX_PROF_lst:\n",
    "    classifieur = RandomForestClassifier(n_estimators=40, max_depth=max_prof)\n",
    "    classifieur.fit(X_cars_train, Y_cars_train)\n",
    "    f1_train_pm_foret.append(f1_score(Y_cars_train, classifieur.predict(X_cars_train), average=\"micro\"))\n",
    "    f1_test_pm_foret.append(f1_score(Y_cars_test, classifieur.predict(X_cars_test), average=\"micro\"))\n",
    "\n",
    "plt.plot(MAX_PROF_lst, f1_train_pm_foret, color=\"blue\", label=\"Convergence (Foret)\")\n",
    "plt.plot(MAX_PROF_lst, f1_test_pm_foret, color=\"red\", label=\"Test (Foret)\")\n",
    "plt.plot(MAX_PROF_lst, f1_train_pm, color=\"green\", label=\"Convergence (Arbre)\")\n",
    "plt.plot(MAX_PROF_lst, f1_test_pm, color=\"orange\", label=\"Test (Arbre)\")\n",
    "plt.ylabel(\"F1\")\n",
    "plt.xlabel(\"Profondeur max de l'arbre\")\n",
    "plt.legend()\n",
    "#plt.rcParams[\"figure.figsize\"] = (3,7)\n",
    "plt.show()"
   ]
  },
  {
   "cell_type": "markdown",
   "metadata": {
    "id": "B5-Dqb65nk-F"
   },
   "source": [
    "#### II.2.3. Observations minimales dans les feuilles\n",
    "\n",
    "Pour chaque nombre minimale des observations dans les feuilles, on entraîne un forêt et on mesure sa convergence et sa performance en terme du score F1. On compare les résultats avec les arbres équivalents (avec le même nombre des observations minimales)\n",
    "\n",
    "**TODO : Analyser les résultats**\n",
    "- Comparer la performance (convergence et généralisation) des arbres et des forêts en terme du nombre des observations dans les feuilles\n",
    "- Justifier \n",
    "\n",
    "**Réponse**\n",
    "- pour un nombre petit d'observation, la training est bon mais les tests sont mauvais et pour un grand nombre d'observation, la performance (convergence et généralisation) est minimale pour les forets et les les arbres donc, plus le nombre d'observations minimales dans les feuilles augment plus la performance diminue, \n",
    "- pour **les arbres** si nous choisissons une taille de feuille trop petite, il nous faudra beaucoup de divisions pour l'atteindre. Un arbre trop profond signifie un cas de sur-apprentissage, et d'un autre côté, si nous choisissons une taille de feuille trop grande, l'arbre cessera de grandir après quelque devisions et donc une mauvaises performances prédictives. \n",
    "pour **les forêts** leur performance depend de ses arbres, et un grand nombre d'observations dans une feuille conduit à un cas de sur-apprentissage. "
   ]
  },
  {
   "cell_type": "code",
   "execution_count": null,
   "metadata": {
    "colab": {
     "base_uri": "https://localhost:8080/",
     "height": 279
    },
    "id": "H0NBtMCynk-F",
    "outputId": "0c9cc7a6-3f6a-4483-a369-16504b742572"
   },
   "outputs": [
    {
     "data": {
      "image/png": "[encoded data removed]",
      "text/plain": [
       "<Figure size 432x288 with 1 Axes>"
      ]
     },
     "metadata": {
      "needs_background": "light",
      "tags": []
     },
     "output_type": "display_data"
    }
   ],
   "source": [
    "f1_train_mf_foret = []\n",
    "f1_test_mf_foret = []\n",
    "for min_feuille in MIN_FEUILLE_lst:\n",
    "    classifieur = RandomForestClassifier(n_estimators=40, min_samples_leaf=min_feuille)\n",
    "    classifieur.fit(X_cars_train, Y_cars_train)\n",
    "    f1_train_mf_foret.append(f1_score(Y_cars_train, classifieur.predict(X_cars_train), average=\"micro\"))\n",
    "    f1_test_mf_foret.append(f1_score(Y_cars_test, classifieur.predict(X_cars_test), average=\"micro\"))\n",
    "\n",
    "plt.plot(MIN_FEUILLE_lst, f1_train_mf_foret, color=\"blue\", label=\"Convergence (Foret)\")\n",
    "plt.plot(MIN_FEUILLE_lst, f1_test_mf_foret, color=\"red\", label=\"Test (Foret)\")\n",
    "plt.plot(MIN_FEUILLE_lst, f1_train_mf, color=\"green\", label=\"Convergence (Arbre)\")\n",
    "plt.plot(MIN_FEUILLE_lst, f1_test_mf, color=\"orange\", label=\"Test (Arbre)\")\n",
    "plt.ylabel(\"F1\")\n",
    "plt.xlabel(\"Observations minimales dans les feuilles\")\n",
    "plt.legend()\n",
    "#plt.rcParams[\"figure.figsize\"] = (3,7)\n",
    "plt.show()"
   ]
  },
  {
   "cell_type": "markdown",
   "metadata": {
    "id": "ZlgvmJKlnk-G"
   },
   "source": [
    "#### II.2.4. Taille d'un Bootstrap\n",
    "\n",
    "Ici, on définit un pourcentage de la taille des Bootstrap par rapport la taille initiale du dataset. Pour chaque pourcentage, on entraîne un forêt et on test sa performance (convergence et généralisation) en utilisant la mesure F1.\n",
    "\n",
    "**TODO : Analyser les résultats**\n",
    "- Que remarquez-vous ?\n",
    "- Quelle est la raison pour laquelle la performance n'augmente pas d'une manière lisse ?\n",
    "\n",
    "**Réponse**\n",
    "- on remarque que lorsque lo porcentage de la taille des Bootstrap par rapport la taille initiale du dataset augemnte le performance (généralisation, entrainement) augmente aussi mais d'une maniere qui n'est pas lisse. \n",
    "\n",
    "- Lorsque le nombre d'arbres augmente, cela ne signifie pas toujours que la performance de la forêt est nettement meilleure que celle des forêts précédentes (moins d'arbres), et c'est pour ça on remarque que la performance augmente mais dans un courbe plien d'oscillations, et cela revient à la nature de construction des forets, \"aléatoire\".  "
   ]
  },
  {
   "cell_type": "code",
   "execution_count": null,
   "metadata": {
    "colab": {
     "base_uri": "https://localhost:8080/",
     "height": 279
    },
    "id": "Spc40bcvnk-G",
    "outputId": "15a9096e-f66c-4891-bdd6-351ba1ca6e6a"
   },
   "outputs": [
    {
     "data": {
      "image/png": "[encoded data removed]",
      "text/plain": [
       "<Figure size 432x288 with 1 Axes>"
      ]
     },
     "metadata": {
      "needs_background": "light",
      "tags": []
     },
     "output_type": "display_data"
    }
   ],
   "source": [
    "POUR_OBS_lst = np.arange(0.1, 1, 0.01)\n",
    "\n",
    "f1_train_ech = []\n",
    "f1_test_ech = []\n",
    "for pour_obs in POUR_OBS_lst:\n",
    "    classifieur = RandomForestClassifier(n_estimators=40, max_samples=pour_obs)\n",
    "    classifieur.fit(X_cars_train, Y_cars_train)\n",
    "    f1_train_ech.append(f1_score(Y_cars_train, classifieur.predict(X_cars_train), average=\"micro\"))\n",
    "    f1_test_ech.append(f1_score(Y_cars_test, classifieur.predict(X_cars_test), average=\"micro\"))\n",
    "\n",
    "plt.plot(POUR_OBS_lst, f1_train_ech, color=\"blue\", label=\"Convergence (Foret)\")\n",
    "plt.plot(POUR_OBS_lst, f1_test_ech, color=\"red\", label=\"Test (Foret)\")\n",
    "plt.ylabel(\"F1\")\n",
    "plt.xlabel(\"Pourcentage du bootstap par rapport le dataset originale\")\n",
    "plt.legend()\n",
    "#plt.rcParams[\"figure.figsize\"] = (3,7)\n",
    "plt.show()"
   ]
  }
 ],
 "metadata": {
  "colab": {
   "collapsed_sections": [],
   "name": "TP04-Arbres_Forets.ipynb",
   "provenance": []
  },
  "kernelspec": {
   "display_name": "Python 3",
   "language": "python",
   "name": "python3"
  },
  "language_info": {
   "codemirror_mode": {
    "name": "ipython",
    "version": 3
   },
   "file_extension": ".py",
   "mimetype": "text/x-python",
   "name": "python",
   "nbconvert_exporter": "python",
   "pygments_lexer": "ipython3",
   "version": "3.8.5"
  }
 },
 "nbformat": 4,
 "nbformat_minor": 1
}
